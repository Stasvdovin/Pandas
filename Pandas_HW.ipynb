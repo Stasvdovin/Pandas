{
  "cells": [
    {
      "cell_type": "markdown",
      "metadata": {
        "id": "view-in-github",
        "colab_type": "text"
      },
      "source": [
        "<a href=\"https://colab.research.google.com/github/Stasvdovin/Pandas/blob/main/Pandas_HW.ipynb\" target=\"_parent\"><img src=\"https://colab.research.google.com/assets/colab-badge.svg\" alt=\"Open In Colab\"/></a>"
      ]
    },
    {
      "cell_type": "markdown",
      "metadata": {
        "id": "dNc843icFY6l"
      },
      "source": [
        "# Импорт библиотек"
      ]
    },
    {
      "cell_type": "code",
      "execution_count": null,
      "metadata": {
        "id": "TA4ipWGGFY6p"
      },
      "outputs": [],
      "source": [
        "import numpy as np\n",
        "import pandas as pd\n",
        "import seaborn as sns\n",
        "import matplotlib.pyplot as plt"
      ]
    },
    {
      "cell_type": "markdown",
      "metadata": {
        "id": "LfNk3A_BFY6q"
      },
      "source": [
        "# Считываем файл в DataFrame"
      ]
    },
    {
      "cell_type": "markdown",
      "metadata": {
        "id": "p2gyr3R0FY6r"
      },
      "source": [
        "## Считываем lectures.cvs"
      ]
    },
    {
      "cell_type": "markdown",
      "metadata": {
        "id": "JTR_kXKiFY6r"
      },
      "source": [
        "lectures.csv : метаданные для лекций, просмотренных студентами по мере их обучения.\n",
        "\n",
        "**lecture_id**: внешний ключ для столбца content_id в train.csv, если тип контента - лекция (1).  \n",
        "**part**: раздел, к которому относится лекция.  \n",
        "**tag**: один тег для каждой лекции. Значения тегов не представлены, но их достаточно для кластеризации лекций.  \n",
        "**type_of**: краткое описание основной цели лекции."
      ]
    },
    {
      "cell_type": "code",
      "execution_count": null,
      "metadata": {
        "id": "Ed35pejSFY6s",
        "outputId": "bed11dc3-db56-4e5e-9e12-bff0c09568e8"
      },
      "outputs": [
        {
          "data": {
            "text/html": [
              "<div>\n",
              "<style scoped>\n",
              "    .dataframe tbody tr th:only-of-type {\n",
              "        vertical-align: middle;\n",
              "    }\n",
              "\n",
              "    .dataframe tbody tr th {\n",
              "        vertical-align: top;\n",
              "    }\n",
              "\n",
              "    .dataframe thead th {\n",
              "        text-align: right;\n",
              "    }\n",
              "</style>\n",
              "<table border=\"1\" class=\"dataframe\">\n",
              "  <thead>\n",
              "    <tr style=\"text-align: right;\">\n",
              "      <th></th>\n",
              "      <th>lecture_id</th>\n",
              "      <th>tag</th>\n",
              "      <th>part</th>\n",
              "      <th>type_of</th>\n",
              "    </tr>\n",
              "  </thead>\n",
              "  <tbody>\n",
              "    <tr>\n",
              "      <th>0</th>\n",
              "      <td>89</td>\n",
              "      <td>159</td>\n",
              "      <td>5</td>\n",
              "      <td>concept</td>\n",
              "    </tr>\n",
              "    <tr>\n",
              "      <th>1</th>\n",
              "      <td>100</td>\n",
              "      <td>70</td>\n",
              "      <td>1</td>\n",
              "      <td>concept</td>\n",
              "    </tr>\n",
              "    <tr>\n",
              "      <th>2</th>\n",
              "      <td>185</td>\n",
              "      <td>45</td>\n",
              "      <td>6</td>\n",
              "      <td>concept</td>\n",
              "    </tr>\n",
              "    <tr>\n",
              "      <th>3</th>\n",
              "      <td>192</td>\n",
              "      <td>79</td>\n",
              "      <td>5</td>\n",
              "      <td>solving question</td>\n",
              "    </tr>\n",
              "    <tr>\n",
              "      <th>4</th>\n",
              "      <td>317</td>\n",
              "      <td>156</td>\n",
              "      <td>5</td>\n",
              "      <td>solving question</td>\n",
              "    </tr>\n",
              "    <tr>\n",
              "      <th>...</th>\n",
              "      <td>...</td>\n",
              "      <td>...</td>\n",
              "      <td>...</td>\n",
              "      <td>...</td>\n",
              "    </tr>\n",
              "    <tr>\n",
              "      <th>413</th>\n",
              "      <td>32535</td>\n",
              "      <td>8</td>\n",
              "      <td>5</td>\n",
              "      <td>solving question</td>\n",
              "    </tr>\n",
              "    <tr>\n",
              "      <th>414</th>\n",
              "      <td>32570</td>\n",
              "      <td>113</td>\n",
              "      <td>3</td>\n",
              "      <td>solving question</td>\n",
              "    </tr>\n",
              "    <tr>\n",
              "      <th>415</th>\n",
              "      <td>32604</td>\n",
              "      <td>24</td>\n",
              "      <td>6</td>\n",
              "      <td>concept</td>\n",
              "    </tr>\n",
              "    <tr>\n",
              "      <th>416</th>\n",
              "      <td>32625</td>\n",
              "      <td>142</td>\n",
              "      <td>2</td>\n",
              "      <td>concept</td>\n",
              "    </tr>\n",
              "    <tr>\n",
              "      <th>417</th>\n",
              "      <td>32736</td>\n",
              "      <td>82</td>\n",
              "      <td>3</td>\n",
              "      <td>concept</td>\n",
              "    </tr>\n",
              "  </tbody>\n",
              "</table>\n",
              "<p>418 rows × 4 columns</p>\n",
              "</div>"
            ],
            "text/plain": [
              "     lecture_id  tag  part           type_of\n",
              "0            89  159     5           concept\n",
              "1           100   70     1           concept\n",
              "2           185   45     6           concept\n",
              "3           192   79     5  solving question\n",
              "4           317  156     5  solving question\n",
              "..          ...  ...   ...               ...\n",
              "413       32535    8     5  solving question\n",
              "414       32570  113     3  solving question\n",
              "415       32604   24     6           concept\n",
              "416       32625  142     2           concept\n",
              "417       32736   82     3           concept\n",
              "\n",
              "[418 rows x 4 columns]"
            ]
          },
          "execution_count": 94,
          "metadata": {},
          "output_type": "execute_result"
        }
      ],
      "source": [
        "dfl = pd.read_csv('data/lectures.csv')\n",
        "dfl"
      ]
    },
    {
      "cell_type": "markdown",
      "metadata": {
        "id": "jX3cMDSmFY6t"
      },
      "source": [
        "## Считываем questions.csv"
      ]
    },
    {
      "cell_type": "markdown",
      "metadata": {
        "id": "T7QFja1bFY6t"
      },
      "source": [
        "questions.csv : метаданные для заданных студентам вопросов.\n",
        "\n",
        "**question_id**: внешний ключ для столбца train/test content_id если тип контента - вопрос (0).  \n",
        "**bundle_id**: идентификатор совместного набора вопросов.  \n",
        "**correct_answer**: правильный ответ на вопрос. Можно сравнить со столбцом user_answer в train.csv, чтобы проверить, верно ли ответил студент.  \n",
        "**part**: соответствующий раздел теста TOEIC.  \n",
        "**tags**: один или несколько подробных тегов для каждого вопроса. Значения тегов не представлены, но их достаточно для кластеризации вопросов."
      ]
    },
    {
      "cell_type": "code",
      "execution_count": null,
      "metadata": {
        "id": "0_hEJp53FY6t",
        "outputId": "117bc5b9-82ea-43d8-cca3-279379d08bb2"
      },
      "outputs": [
        {
          "data": {
            "text/html": [
              "<div>\n",
              "<style scoped>\n",
              "    .dataframe tbody tr th:only-of-type {\n",
              "        vertical-align: middle;\n",
              "    }\n",
              "\n",
              "    .dataframe tbody tr th {\n",
              "        vertical-align: top;\n",
              "    }\n",
              "\n",
              "    .dataframe thead th {\n",
              "        text-align: right;\n",
              "    }\n",
              "</style>\n",
              "<table border=\"1\" class=\"dataframe\">\n",
              "  <thead>\n",
              "    <tr style=\"text-align: right;\">\n",
              "      <th></th>\n",
              "      <th>question_id</th>\n",
              "      <th>bundle_id</th>\n",
              "      <th>correct_answer</th>\n",
              "      <th>part</th>\n",
              "      <th>tags</th>\n",
              "    </tr>\n",
              "  </thead>\n",
              "  <tbody>\n",
              "    <tr>\n",
              "      <th>0</th>\n",
              "      <td>0</td>\n",
              "      <td>0</td>\n",
              "      <td>0</td>\n",
              "      <td>1</td>\n",
              "      <td>51 131 162 38</td>\n",
              "    </tr>\n",
              "    <tr>\n",
              "      <th>1</th>\n",
              "      <td>1</td>\n",
              "      <td>1</td>\n",
              "      <td>1</td>\n",
              "      <td>1</td>\n",
              "      <td>131 36 81</td>\n",
              "    </tr>\n",
              "    <tr>\n",
              "      <th>2</th>\n",
              "      <td>2</td>\n",
              "      <td>2</td>\n",
              "      <td>0</td>\n",
              "      <td>1</td>\n",
              "      <td>131 101 162 92</td>\n",
              "    </tr>\n",
              "    <tr>\n",
              "      <th>3</th>\n",
              "      <td>3</td>\n",
              "      <td>3</td>\n",
              "      <td>0</td>\n",
              "      <td>1</td>\n",
              "      <td>131 149 162 29</td>\n",
              "    </tr>\n",
              "    <tr>\n",
              "      <th>4</th>\n",
              "      <td>4</td>\n",
              "      <td>4</td>\n",
              "      <td>3</td>\n",
              "      <td>1</td>\n",
              "      <td>131 5 162 38</td>\n",
              "    </tr>\n",
              "    <tr>\n",
              "      <th>...</th>\n",
              "      <td>...</td>\n",
              "      <td>...</td>\n",
              "      <td>...</td>\n",
              "      <td>...</td>\n",
              "      <td>...</td>\n",
              "    </tr>\n",
              "    <tr>\n",
              "      <th>13518</th>\n",
              "      <td>13518</td>\n",
              "      <td>13518</td>\n",
              "      <td>3</td>\n",
              "      <td>5</td>\n",
              "      <td>14</td>\n",
              "    </tr>\n",
              "    <tr>\n",
              "      <th>13519</th>\n",
              "      <td>13519</td>\n",
              "      <td>13519</td>\n",
              "      <td>3</td>\n",
              "      <td>5</td>\n",
              "      <td>8</td>\n",
              "    </tr>\n",
              "    <tr>\n",
              "      <th>13520</th>\n",
              "      <td>13520</td>\n",
              "      <td>13520</td>\n",
              "      <td>2</td>\n",
              "      <td>5</td>\n",
              "      <td>73</td>\n",
              "    </tr>\n",
              "    <tr>\n",
              "      <th>13521</th>\n",
              "      <td>13521</td>\n",
              "      <td>13521</td>\n",
              "      <td>0</td>\n",
              "      <td>5</td>\n",
              "      <td>125</td>\n",
              "    </tr>\n",
              "    <tr>\n",
              "      <th>13522</th>\n",
              "      <td>13522</td>\n",
              "      <td>13522</td>\n",
              "      <td>3</td>\n",
              "      <td>5</td>\n",
              "      <td>55</td>\n",
              "    </tr>\n",
              "  </tbody>\n",
              "</table>\n",
              "<p>13523 rows × 5 columns</p>\n",
              "</div>"
            ],
            "text/plain": [
              "       question_id  bundle_id  correct_answer  part            tags\n",
              "0                0          0               0     1   51 131 162 38\n",
              "1                1          1               1     1       131 36 81\n",
              "2                2          2               0     1  131 101 162 92\n",
              "3                3          3               0     1  131 149 162 29\n",
              "4                4          4               3     1    131 5 162 38\n",
              "...            ...        ...             ...   ...             ...\n",
              "13518        13518      13518               3     5              14\n",
              "13519        13519      13519               3     5               8\n",
              "13520        13520      13520               2     5              73\n",
              "13521        13521      13521               0     5             125\n",
              "13522        13522      13522               3     5              55\n",
              "\n",
              "[13523 rows x 5 columns]"
            ]
          },
          "execution_count": 95,
          "metadata": {},
          "output_type": "execute_result"
        }
      ],
      "source": [
        "dfq = pd.read_csv('data/questions.csv')\n",
        "dfq"
      ]
    },
    {
      "cell_type": "markdown",
      "metadata": {
        "id": "5jIuDI4dFY6u"
      },
      "source": [
        "## Считываем train.csv 1000000 строк"
      ]
    },
    {
      "cell_type": "markdown",
      "metadata": {
        "id": "A_HgPP_CFY6u"
      },
      "source": [
        "train.csv : метаданные ответов на заданные студентам вопросы.\n",
        "\n",
        "**row_id**: (int64) идентификатор строки.  \n",
        "**timestamp**: (int64) время в миллисекундах между этим взаимодействием со студентом и завершением первого события от данного студента.  \n",
        "**user_id**: (int32) идентификатор студента.  \n",
        "**content_id**: (int16) идентификатор взаимодействия со студентом.  \n",
        "**content_type_id**: (int8) идентификатор типа контента. 0, если контентом был заданный студенту вопрос, 1 - просмотр студентом лекции.  \n",
        "**task_container_id**: (int16) идентификатор набора вопросов или лекций. Например, студент может увидеть три вопроса подряд, прежде чем увидит пояснения к какому-либо из них. Все три вопроса будут иметь общий идентификатор набора.  \n",
        "**user_answer**: (int8) ответ студента на вопрос, если они есть. Для лекций считать -1 как null.  \n",
        "**answered_correctly**: (int8) был ли ответ студента на вопрос правильным. Для лекций считать -1 как null.  \n",
        "**prior_question_elapsed_time**: (float32) среднее время в миллисекундах, затрачиваемое студентом для ответа на каждый вопрос из предыдущего набора вопросов, без учёта промежуточных лекций. Имеет значение null для 1-го набора вопросов или лекции.  \n",
        "**prior_question_had_explanation**: (bool) увидел ли студент объяснение и правильный ответ после ответа на предыдущий набор вопросов, без учёта промежуточных лекций. Это значение является общим для одного набора вопросов и имеет значение null для 1-го набора вопросов или лекции. Как правило, первые несколько вопросов, увиденные студентом, были частью вводного диагностического теста и не получили никакой обратной связи."
      ]
    },
    {
      "cell_type": "code",
      "execution_count": null,
      "metadata": {
        "id": "uv_bGpmIFY6v",
        "outputId": "f44d05cb-1e43-4c2a-e16d-2b2238a3f6a5"
      },
      "outputs": [
        {
          "data": {
            "text/html": [
              "<div>\n",
              "<style scoped>\n",
              "    .dataframe tbody tr th:only-of-type {\n",
              "        vertical-align: middle;\n",
              "    }\n",
              "\n",
              "    .dataframe tbody tr th {\n",
              "        vertical-align: top;\n",
              "    }\n",
              "\n",
              "    .dataframe thead th {\n",
              "        text-align: right;\n",
              "    }\n",
              "</style>\n",
              "<table border=\"1\" class=\"dataframe\">\n",
              "  <thead>\n",
              "    <tr style=\"text-align: right;\">\n",
              "      <th></th>\n",
              "      <th>row_id</th>\n",
              "      <th>timestamp</th>\n",
              "      <th>user_id</th>\n",
              "      <th>content_id</th>\n",
              "      <th>content_type_id</th>\n",
              "      <th>task_container_id</th>\n",
              "      <th>user_answer</th>\n",
              "      <th>answered_correctly</th>\n",
              "      <th>prior_question_elapsed_time</th>\n",
              "      <th>prior_question_had_explanation</th>\n",
              "    </tr>\n",
              "  </thead>\n",
              "  <tbody>\n",
              "    <tr>\n",
              "      <th>0</th>\n",
              "      <td>0</td>\n",
              "      <td>0</td>\n",
              "      <td>115</td>\n",
              "      <td>5692</td>\n",
              "      <td>0</td>\n",
              "      <td>1</td>\n",
              "      <td>3</td>\n",
              "      <td>1</td>\n",
              "      <td>NaN</td>\n",
              "      <td>NaN</td>\n",
              "    </tr>\n",
              "    <tr>\n",
              "      <th>1</th>\n",
              "      <td>1</td>\n",
              "      <td>56943</td>\n",
              "      <td>115</td>\n",
              "      <td>5716</td>\n",
              "      <td>0</td>\n",
              "      <td>2</td>\n",
              "      <td>2</td>\n",
              "      <td>1</td>\n",
              "      <td>37000.0</td>\n",
              "      <td>False</td>\n",
              "    </tr>\n",
              "    <tr>\n",
              "      <th>2</th>\n",
              "      <td>2</td>\n",
              "      <td>118363</td>\n",
              "      <td>115</td>\n",
              "      <td>128</td>\n",
              "      <td>0</td>\n",
              "      <td>0</td>\n",
              "      <td>0</td>\n",
              "      <td>1</td>\n",
              "      <td>55000.0</td>\n",
              "      <td>False</td>\n",
              "    </tr>\n",
              "    <tr>\n",
              "      <th>3</th>\n",
              "      <td>3</td>\n",
              "      <td>131167</td>\n",
              "      <td>115</td>\n",
              "      <td>7860</td>\n",
              "      <td>0</td>\n",
              "      <td>3</td>\n",
              "      <td>0</td>\n",
              "      <td>1</td>\n",
              "      <td>19000.0</td>\n",
              "      <td>False</td>\n",
              "    </tr>\n",
              "    <tr>\n",
              "      <th>4</th>\n",
              "      <td>4</td>\n",
              "      <td>137965</td>\n",
              "      <td>115</td>\n",
              "      <td>7922</td>\n",
              "      <td>0</td>\n",
              "      <td>4</td>\n",
              "      <td>1</td>\n",
              "      <td>1</td>\n",
              "      <td>11000.0</td>\n",
              "      <td>False</td>\n",
              "    </tr>\n",
              "    <tr>\n",
              "      <th>...</th>\n",
              "      <td>...</td>\n",
              "      <td>...</td>\n",
              "      <td>...</td>\n",
              "      <td>...</td>\n",
              "      <td>...</td>\n",
              "      <td>...</td>\n",
              "      <td>...</td>\n",
              "      <td>...</td>\n",
              "      <td>...</td>\n",
              "      <td>...</td>\n",
              "    </tr>\n",
              "    <tr>\n",
              "      <th>999995</th>\n",
              "      <td>999995</td>\n",
              "      <td>26482248</td>\n",
              "      <td>20949024</td>\n",
              "      <td>8803</td>\n",
              "      <td>0</td>\n",
              "      <td>29</td>\n",
              "      <td>1</td>\n",
              "      <td>1</td>\n",
              "      <td>14000.0</td>\n",
              "      <td>True</td>\n",
              "    </tr>\n",
              "    <tr>\n",
              "      <th>999996</th>\n",
              "      <td>999996</td>\n",
              "      <td>26516686</td>\n",
              "      <td>20949024</td>\n",
              "      <td>4664</td>\n",
              "      <td>0</td>\n",
              "      <td>30</td>\n",
              "      <td>3</td>\n",
              "      <td>1</td>\n",
              "      <td>17000.0</td>\n",
              "      <td>True</td>\n",
              "    </tr>\n",
              "    <tr>\n",
              "      <th>999997</th>\n",
              "      <td>999997</td>\n",
              "      <td>26537967</td>\n",
              "      <td>20949024</td>\n",
              "      <td>4108</td>\n",
              "      <td>0</td>\n",
              "      <td>31</td>\n",
              "      <td>1</td>\n",
              "      <td>0</td>\n",
              "      <td>18000.0</td>\n",
              "      <td>True</td>\n",
              "    </tr>\n",
              "    <tr>\n",
              "      <th>999998</th>\n",
              "      <td>999998</td>\n",
              "      <td>26590240</td>\n",
              "      <td>20949024</td>\n",
              "      <td>5014</td>\n",
              "      <td>0</td>\n",
              "      <td>32</td>\n",
              "      <td>3</td>\n",
              "      <td>0</td>\n",
              "      <td>6000.0</td>\n",
              "      <td>True</td>\n",
              "    </tr>\n",
              "    <tr>\n",
              "      <th>999999</th>\n",
              "      <td>999999</td>\n",
              "      <td>26605316</td>\n",
              "      <td>20949024</td>\n",
              "      <td>9828</td>\n",
              "      <td>0</td>\n",
              "      <td>33</td>\n",
              "      <td>0</td>\n",
              "      <td>0</td>\n",
              "      <td>46000.0</td>\n",
              "      <td>True</td>\n",
              "    </tr>\n",
              "  </tbody>\n",
              "</table>\n",
              "<p>1000000 rows × 10 columns</p>\n",
              "</div>"
            ],
            "text/plain": [
              "        row_id  timestamp   user_id  content_id  content_type_id  \\\n",
              "0            0          0       115        5692                0   \n",
              "1            1      56943       115        5716                0   \n",
              "2            2     118363       115         128                0   \n",
              "3            3     131167       115        7860                0   \n",
              "4            4     137965       115        7922                0   \n",
              "...        ...        ...       ...         ...              ...   \n",
              "999995  999995   26482248  20949024        8803                0   \n",
              "999996  999996   26516686  20949024        4664                0   \n",
              "999997  999997   26537967  20949024        4108                0   \n",
              "999998  999998   26590240  20949024        5014                0   \n",
              "999999  999999   26605316  20949024        9828                0   \n",
              "\n",
              "        task_container_id  user_answer  answered_correctly  \\\n",
              "0                       1            3                   1   \n",
              "1                       2            2                   1   \n",
              "2                       0            0                   1   \n",
              "3                       3            0                   1   \n",
              "4                       4            1                   1   \n",
              "...                   ...          ...                 ...   \n",
              "999995                 29            1                   1   \n",
              "999996                 30            3                   1   \n",
              "999997                 31            1                   0   \n",
              "999998                 32            3                   0   \n",
              "999999                 33            0                   0   \n",
              "\n",
              "        prior_question_elapsed_time prior_question_had_explanation  \n",
              "0                               NaN                            NaN  \n",
              "1                           37000.0                          False  \n",
              "2                           55000.0                          False  \n",
              "3                           19000.0                          False  \n",
              "4                           11000.0                          False  \n",
              "...                             ...                            ...  \n",
              "999995                      14000.0                           True  \n",
              "999996                      17000.0                           True  \n",
              "999997                      18000.0                           True  \n",
              "999998                       6000.0                           True  \n",
              "999999                      46000.0                           True  \n",
              "\n",
              "[1000000 rows x 10 columns]"
            ]
          },
          "execution_count": 96,
          "metadata": {},
          "output_type": "execute_result"
        }
      ],
      "source": [
        "dft = pd.read_csv('data/train.csv', nrows = 1000000)\n",
        "dft"
      ]
    },
    {
      "cell_type": "markdown",
      "metadata": {
        "id": "B5qsB1OmFY6v"
      },
      "source": [
        "# Анализ вспомагательных таблиц "
      ]
    },
    {
      "cell_type": "markdown",
      "metadata": {
        "id": "jPu3GOKYFY6v"
      },
      "source": [
        "## Таблица lectures.cvs"
      ]
    },
    {
      "cell_type": "markdown",
      "metadata": {
        "id": "jT093Nb4FY6v"
      },
      "source": [
        "Выведим первые 5 строк таблицы lectures.cvs"
      ]
    },
    {
      "cell_type": "code",
      "execution_count": null,
      "metadata": {
        "id": "NBiVYbDSFY6w",
        "outputId": "ed8e5c48-4e10-4a80-b80a-5f105b428d3e"
      },
      "outputs": [
        {
          "data": {
            "text/html": [
              "<div>\n",
              "<style scoped>\n",
              "    .dataframe tbody tr th:only-of-type {\n",
              "        vertical-align: middle;\n",
              "    }\n",
              "\n",
              "    .dataframe tbody tr th {\n",
              "        vertical-align: top;\n",
              "    }\n",
              "\n",
              "    .dataframe thead th {\n",
              "        text-align: right;\n",
              "    }\n",
              "</style>\n",
              "<table border=\"1\" class=\"dataframe\">\n",
              "  <thead>\n",
              "    <tr style=\"text-align: right;\">\n",
              "      <th></th>\n",
              "      <th>lecture_id</th>\n",
              "      <th>tag</th>\n",
              "      <th>part</th>\n",
              "      <th>type_of</th>\n",
              "    </tr>\n",
              "  </thead>\n",
              "  <tbody>\n",
              "    <tr>\n",
              "      <th>0</th>\n",
              "      <td>89</td>\n",
              "      <td>159</td>\n",
              "      <td>5</td>\n",
              "      <td>concept</td>\n",
              "    </tr>\n",
              "    <tr>\n",
              "      <th>1</th>\n",
              "      <td>100</td>\n",
              "      <td>70</td>\n",
              "      <td>1</td>\n",
              "      <td>concept</td>\n",
              "    </tr>\n",
              "    <tr>\n",
              "      <th>2</th>\n",
              "      <td>185</td>\n",
              "      <td>45</td>\n",
              "      <td>6</td>\n",
              "      <td>concept</td>\n",
              "    </tr>\n",
              "    <tr>\n",
              "      <th>3</th>\n",
              "      <td>192</td>\n",
              "      <td>79</td>\n",
              "      <td>5</td>\n",
              "      <td>solving question</td>\n",
              "    </tr>\n",
              "    <tr>\n",
              "      <th>4</th>\n",
              "      <td>317</td>\n",
              "      <td>156</td>\n",
              "      <td>5</td>\n",
              "      <td>solving question</td>\n",
              "    </tr>\n",
              "  </tbody>\n",
              "</table>\n",
              "</div>"
            ],
            "text/plain": [
              "   lecture_id  tag  part           type_of\n",
              "0          89  159     5           concept\n",
              "1         100   70     1           concept\n",
              "2         185   45     6           concept\n",
              "3         192   79     5  solving question\n",
              "4         317  156     5  solving question"
            ]
          },
          "execution_count": 97,
          "metadata": {},
          "output_type": "execute_result"
        }
      ],
      "source": [
        "dfl.head()"
      ]
    },
    {
      "cell_type": "markdown",
      "metadata": {
        "id": "WMl6FtC3FY6w"
      },
      "source": [
        "Посмотрим информацию "
      ]
    },
    {
      "cell_type": "code",
      "execution_count": null,
      "metadata": {
        "id": "8NHQfMCWFY6w",
        "outputId": "13827029-ee6a-460b-c0d3-d87d776f669d"
      },
      "outputs": [
        {
          "name": "stdout",
          "output_type": "stream",
          "text": [
            "<class 'pandas.core.frame.DataFrame'>\n",
            "RangeIndex: 418 entries, 0 to 417\n",
            "Data columns (total 4 columns):\n",
            " #   Column      Non-Null Count  Dtype \n",
            "---  ------      --------------  ----- \n",
            " 0   lecture_id  418 non-null    int64 \n",
            " 1   tag         418 non-null    int64 \n",
            " 2   part        418 non-null    int64 \n",
            " 3   type_of     418 non-null    object\n",
            "dtypes: int64(3), object(1)\n",
            "memory usage: 13.2+ KB\n"
          ]
        }
      ],
      "source": [
        "dfl.info()"
      ]
    },
    {
      "cell_type": "markdown",
      "metadata": {
        "id": "gnb9XDvuFY6x"
      },
      "source": [
        "Статистика по числовым данным "
      ]
    },
    {
      "cell_type": "code",
      "execution_count": null,
      "metadata": {
        "id": "mVGDr93GFY6x",
        "outputId": "3c79d785-2133-4bfc-b0b6-06f74c340ce2"
      },
      "outputs": [
        {
          "data": {
            "text/html": [
              "<div>\n",
              "<style scoped>\n",
              "    .dataframe tbody tr th:only-of-type {\n",
              "        vertical-align: middle;\n",
              "    }\n",
              "\n",
              "    .dataframe tbody tr th {\n",
              "        vertical-align: top;\n",
              "    }\n",
              "\n",
              "    .dataframe thead th {\n",
              "        text-align: right;\n",
              "    }\n",
              "</style>\n",
              "<table border=\"1\" class=\"dataframe\">\n",
              "  <thead>\n",
              "    <tr style=\"text-align: right;\">\n",
              "      <th></th>\n",
              "      <th>lecture_id</th>\n",
              "      <th>tag</th>\n",
              "      <th>part</th>\n",
              "    </tr>\n",
              "  </thead>\n",
              "  <tbody>\n",
              "    <tr>\n",
              "      <th>count</th>\n",
              "      <td>418.000000</td>\n",
              "      <td>418.000000</td>\n",
              "      <td>418.000000</td>\n",
              "    </tr>\n",
              "    <tr>\n",
              "      <th>mean</th>\n",
              "      <td>16983.401914</td>\n",
              "      <td>94.480861</td>\n",
              "      <td>4.267943</td>\n",
              "    </tr>\n",
              "    <tr>\n",
              "      <th>std</th>\n",
              "      <td>9426.164660</td>\n",
              "      <td>53.586487</td>\n",
              "      <td>1.872424</td>\n",
              "    </tr>\n",
              "    <tr>\n",
              "      <th>min</th>\n",
              "      <td>89.000000</td>\n",
              "      <td>0.000000</td>\n",
              "      <td>1.000000</td>\n",
              "    </tr>\n",
              "    <tr>\n",
              "      <th>25%</th>\n",
              "      <td>9026.250000</td>\n",
              "      <td>50.250000</td>\n",
              "      <td>2.000000</td>\n",
              "    </tr>\n",
              "    <tr>\n",
              "      <th>50%</th>\n",
              "      <td>17161.500000</td>\n",
              "      <td>94.500000</td>\n",
              "      <td>5.000000</td>\n",
              "    </tr>\n",
              "    <tr>\n",
              "      <th>75%</th>\n",
              "      <td>24906.250000</td>\n",
              "      <td>140.000000</td>\n",
              "      <td>6.000000</td>\n",
              "    </tr>\n",
              "    <tr>\n",
              "      <th>max</th>\n",
              "      <td>32736.000000</td>\n",
              "      <td>187.000000</td>\n",
              "      <td>7.000000</td>\n",
              "    </tr>\n",
              "  </tbody>\n",
              "</table>\n",
              "</div>"
            ],
            "text/plain": [
              "         lecture_id         tag        part\n",
              "count    418.000000  418.000000  418.000000\n",
              "mean   16983.401914   94.480861    4.267943\n",
              "std     9426.164660   53.586487    1.872424\n",
              "min       89.000000    0.000000    1.000000\n",
              "25%     9026.250000   50.250000    2.000000\n",
              "50%    17161.500000   94.500000    5.000000\n",
              "75%    24906.250000  140.000000    6.000000\n",
              "max    32736.000000  187.000000    7.000000"
            ]
          },
          "execution_count": 99,
          "metadata": {},
          "output_type": "execute_result"
        }
      ],
      "source": [
        "dfl.describe()"
      ]
    },
    {
      "cell_type": "markdown",
      "metadata": {
        "id": "FgYq-rZ2FY6x"
      },
      "source": [
        "Поиск дубликатов"
      ]
    },
    {
      "cell_type": "code",
      "execution_count": null,
      "metadata": {
        "id": "achI87kzFY6x",
        "outputId": "f1c6ab4a-3e3f-4df9-8cf8-bb16e8b97951"
      },
      "outputs": [
        {
          "data": {
            "text/plain": [
              "0"
            ]
          },
          "execution_count": 100,
          "metadata": {},
          "output_type": "execute_result"
        }
      ],
      "source": [
        "dfl.duplicated().sum()"
      ]
    },
    {
      "cell_type": "markdown",
      "metadata": {
        "id": "9O2DaaxYFY6y"
      },
      "source": [
        "Посмотрим пропуски "
      ]
    },
    {
      "cell_type": "code",
      "execution_count": null,
      "metadata": {
        "id": "4oGL1iRgFY6y",
        "outputId": "4b2166f8-ce8c-4145-ff9f-3413296465fd"
      },
      "outputs": [
        {
          "data": {
            "text/plain": [
              "lecture_id    0\n",
              "tag           0\n",
              "part          0\n",
              "type_of       0\n",
              "dtype: int64"
            ]
          },
          "execution_count": 101,
          "metadata": {},
          "output_type": "execute_result"
        }
      ],
      "source": [
        "dfl.isna().sum()"
      ]
    },
    {
      "cell_type": "markdown",
      "metadata": {
        "id": "pgwxwHavFY6y"
      },
      "source": [
        "Посмотрим распеределение лекций по различным частям"
      ]
    },
    {
      "cell_type": "code",
      "execution_count": null,
      "metadata": {
        "id": "DqidBFMMFY6z",
        "outputId": "de7a66db-0392-4b42-b2e1-d577749adae8"
      },
      "outputs": [
        {
          "data": {
            "text/html": [
              "<div>\n",
              "<style scoped>\n",
              "    .dataframe tbody tr th:only-of-type {\n",
              "        vertical-align: middle;\n",
              "    }\n",
              "\n",
              "    .dataframe tbody tr th {\n",
              "        vertical-align: top;\n",
              "    }\n",
              "\n",
              "    .dataframe thead th {\n",
              "        text-align: right;\n",
              "    }\n",
              "</style>\n",
              "<table border=\"1\" class=\"dataframe\">\n",
              "  <thead>\n",
              "    <tr style=\"text-align: right;\">\n",
              "      <th></th>\n",
              "      <th>type_of</th>\n",
              "      <th>part</th>\n",
              "      <th>lecture_id</th>\n",
              "    </tr>\n",
              "  </thead>\n",
              "  <tbody>\n",
              "    <tr>\n",
              "      <th>0</th>\n",
              "      <td>concept</td>\n",
              "      <td>1</td>\n",
              "      <td>20</td>\n",
              "    </tr>\n",
              "    <tr>\n",
              "      <th>1</th>\n",
              "      <td>concept</td>\n",
              "      <td>2</td>\n",
              "      <td>18</td>\n",
              "    </tr>\n",
              "    <tr>\n",
              "      <th>2</th>\n",
              "      <td>concept</td>\n",
              "      <td>3</td>\n",
              "      <td>7</td>\n",
              "    </tr>\n",
              "    <tr>\n",
              "      <th>3</th>\n",
              "      <td>concept</td>\n",
              "      <td>4</td>\n",
              "      <td>19</td>\n",
              "    </tr>\n",
              "    <tr>\n",
              "      <th>4</th>\n",
              "      <td>concept</td>\n",
              "      <td>5</td>\n",
              "      <td>72</td>\n",
              "    </tr>\n",
              "    <tr>\n",
              "      <th>5</th>\n",
              "      <td>concept</td>\n",
              "      <td>6</td>\n",
              "      <td>63</td>\n",
              "    </tr>\n",
              "    <tr>\n",
              "      <th>6</th>\n",
              "      <td>concept</td>\n",
              "      <td>7</td>\n",
              "      <td>23</td>\n",
              "    </tr>\n",
              "    <tr>\n",
              "      <th>7</th>\n",
              "      <td>intention</td>\n",
              "      <td>2</td>\n",
              "      <td>7</td>\n",
              "    </tr>\n",
              "    <tr>\n",
              "      <th>8</th>\n",
              "      <td>solving question</td>\n",
              "      <td>1</td>\n",
              "      <td>34</td>\n",
              "    </tr>\n",
              "    <tr>\n",
              "      <th>9</th>\n",
              "      <td>solving question</td>\n",
              "      <td>2</td>\n",
              "      <td>31</td>\n",
              "    </tr>\n",
              "    <tr>\n",
              "      <th>10</th>\n",
              "      <td>solving question</td>\n",
              "      <td>3</td>\n",
              "      <td>12</td>\n",
              "    </tr>\n",
              "    <tr>\n",
              "      <th>11</th>\n",
              "      <td>solving question</td>\n",
              "      <td>4</td>\n",
              "      <td>12</td>\n",
              "    </tr>\n",
              "    <tr>\n",
              "      <th>12</th>\n",
              "      <td>solving question</td>\n",
              "      <td>5</td>\n",
              "      <td>69</td>\n",
              "    </tr>\n",
              "    <tr>\n",
              "      <th>13</th>\n",
              "      <td>solving question</td>\n",
              "      <td>6</td>\n",
              "      <td>19</td>\n",
              "    </tr>\n",
              "    <tr>\n",
              "      <th>14</th>\n",
              "      <td>solving question</td>\n",
              "      <td>7</td>\n",
              "      <td>9</td>\n",
              "    </tr>\n",
              "    <tr>\n",
              "      <th>15</th>\n",
              "      <td>starter</td>\n",
              "      <td>5</td>\n",
              "      <td>2</td>\n",
              "    </tr>\n",
              "    <tr>\n",
              "      <th>16</th>\n",
              "      <td>starter</td>\n",
              "      <td>6</td>\n",
              "      <td>1</td>\n",
              "    </tr>\n",
              "  </tbody>\n",
              "</table>\n",
              "</div>"
            ],
            "text/plain": [
              "             type_of  part  lecture_id\n",
              "0            concept     1          20\n",
              "1            concept     2          18\n",
              "2            concept     3           7\n",
              "3            concept     4          19\n",
              "4            concept     5          72\n",
              "5            concept     6          63\n",
              "6            concept     7          23\n",
              "7          intention     2           7\n",
              "8   solving question     1          34\n",
              "9   solving question     2          31\n",
              "10  solving question     3          12\n",
              "11  solving question     4          12\n",
              "12  solving question     5          69\n",
              "13  solving question     6          19\n",
              "14  solving question     7           9\n",
              "15           starter     5           2\n",
              "16           starter     6           1"
            ]
          },
          "execution_count": 102,
          "metadata": {},
          "output_type": "execute_result"
        }
      ],
      "source": [
        "dfl[['type_of','part','lecture_id']].groupby(['type_of','part'], as_index = False).count().sort_values(by=['type_of', 'part'])"
      ]
    },
    {
      "cell_type": "markdown",
      "metadata": {
        "id": "XHotcZybFY6z"
      },
      "source": [
        "Выводим распеределение тегов и разделов"
      ]
    },
    {
      "cell_type": "code",
      "execution_count": null,
      "metadata": {
        "id": "_LJ9haqZFY6z",
        "outputId": "b0ee52b5-f643-4197-c886-ead3a0f0415b"
      },
      "outputs": [
        {
          "data": {
            "text/plain": [
              "<AxesSubplot:xlabel='part', ylabel='tag'>"
            ]
          },
          "execution_count": 103,
          "metadata": {},
          "output_type": "execute_result"
        },
        {
          "data": {
            "image/png": "[encoded data removed]",
            "text/plain": [
              "<Figure size 432x288 with 1 Axes>"
            ]
          },
          "metadata": {
            "needs_background": "light"
          },
          "output_type": "display_data"
        }
      ],
      "source": [
        "sns.scatterplot(data = dfl, x = 'part', y = 'tag', hue = 'type_of')"
      ]
    },
    {
      "cell_type": "markdown",
      "metadata": {
        "id": "Zi5FrK73FY6z"
      },
      "source": [
        "Связи тегов и описаний лекций кажется нету"
      ]
    },
    {
      "cell_type": "code",
      "execution_count": null,
      "metadata": {
        "id": "Dxfw6xh1FY60",
        "outputId": "c6bb4f69-7cbc-4a97-f83d-770479f4f096"
      },
      "outputs": [
        {
          "data": {
            "text/plain": [
              "<AxesSubplot:xlabel='tag', ylabel='Count'>"
            ]
          },
          "execution_count": 104,
          "metadata": {},
          "output_type": "execute_result"
        },
        {
          "data": {
            "image/png": "[encoded data removed]",
            "text/plain": [
              "<Figure size 432x288 with 1 Axes>"
            ]
          },
          "metadata": {
            "needs_background": "light"
          },
          "output_type": "display_data"
        }
      ],
      "source": [
        "sns.histplot(data=dfl,x='tag', hue = 'type_of')"
      ]
    },
    {
      "cell_type": "markdown",
      "metadata": {
        "id": "9QhkOPkUFY60"
      },
      "source": [
        "Выводим связь разделов и описаний лекций: в первых 3-х разделах больше практики, в остальных - теории"
      ]
    },
    {
      "cell_type": "code",
      "execution_count": null,
      "metadata": {
        "id": "emJ3wAuUFY60",
        "outputId": "11eb3d7e-a396-4d61-a335-e522bdbe77b1"
      },
      "outputs": [
        {
          "data": {
            "text/plain": [
              "<AxesSubplot:xlabel='part', ylabel='Count'>"
            ]
          },
          "execution_count": 105,
          "metadata": {},
          "output_type": "execute_result"
        },
        {
          "data": {
            "image/png": "[encoded data removed]",
            "text/plain": [
              "<Figure size 432x288 with 1 Axes>"
            ]
          },
          "metadata": {
            "needs_background": "light"
          },
          "output_type": "display_data"
        }
      ],
      "source": [
        "sns.histplot(data = dfl, x = 'part', hue = 'type_of', bins = 7)"
      ]
    },
    {
      "cell_type": "markdown",
      "metadata": {
        "id": "VU5kPkZjFY61"
      },
      "source": [
        "## Таблица questions.csv"
      ]
    },
    {
      "cell_type": "markdown",
      "metadata": {
        "id": "VGvs_W9vFY61"
      },
      "source": [
        "Выводим первые 5 строк"
      ]
    },
    {
      "cell_type": "code",
      "execution_count": null,
      "metadata": {
        "id": "KrAELtmqFY62",
        "outputId": "acb47ca0-7764-450f-a663-5926bc249506"
      },
      "outputs": [
        {
          "data": {
            "text/html": [
              "<div>\n",
              "<style scoped>\n",
              "    .dataframe tbody tr th:only-of-type {\n",
              "        vertical-align: middle;\n",
              "    }\n",
              "\n",
              "    .dataframe tbody tr th {\n",
              "        vertical-align: top;\n",
              "    }\n",
              "\n",
              "    .dataframe thead th {\n",
              "        text-align: right;\n",
              "    }\n",
              "</style>\n",
              "<table border=\"1\" class=\"dataframe\">\n",
              "  <thead>\n",
              "    <tr style=\"text-align: right;\">\n",
              "      <th></th>\n",
              "      <th>question_id</th>\n",
              "      <th>bundle_id</th>\n",
              "      <th>correct_answer</th>\n",
              "      <th>part</th>\n",
              "      <th>tags</th>\n",
              "    </tr>\n",
              "  </thead>\n",
              "  <tbody>\n",
              "    <tr>\n",
              "      <th>0</th>\n",
              "      <td>0</td>\n",
              "      <td>0</td>\n",
              "      <td>0</td>\n",
              "      <td>1</td>\n",
              "      <td>51 131 162 38</td>\n",
              "    </tr>\n",
              "    <tr>\n",
              "      <th>1</th>\n",
              "      <td>1</td>\n",
              "      <td>1</td>\n",
              "      <td>1</td>\n",
              "      <td>1</td>\n",
              "      <td>131 36 81</td>\n",
              "    </tr>\n",
              "    <tr>\n",
              "      <th>2</th>\n",
              "      <td>2</td>\n",
              "      <td>2</td>\n",
              "      <td>0</td>\n",
              "      <td>1</td>\n",
              "      <td>131 101 162 92</td>\n",
              "    </tr>\n",
              "    <tr>\n",
              "      <th>3</th>\n",
              "      <td>3</td>\n",
              "      <td>3</td>\n",
              "      <td>0</td>\n",
              "      <td>1</td>\n",
              "      <td>131 149 162 29</td>\n",
              "    </tr>\n",
              "    <tr>\n",
              "      <th>4</th>\n",
              "      <td>4</td>\n",
              "      <td>4</td>\n",
              "      <td>3</td>\n",
              "      <td>1</td>\n",
              "      <td>131 5 162 38</td>\n",
              "    </tr>\n",
              "  </tbody>\n",
              "</table>\n",
              "</div>"
            ],
            "text/plain": [
              "   question_id  bundle_id  correct_answer  part            tags\n",
              "0            0          0               0     1   51 131 162 38\n",
              "1            1          1               1     1       131 36 81\n",
              "2            2          2               0     1  131 101 162 92\n",
              "3            3          3               0     1  131 149 162 29\n",
              "4            4          4               3     1    131 5 162 38"
            ]
          },
          "execution_count": 106,
          "metadata": {},
          "output_type": "execute_result"
        }
      ],
      "source": [
        "dfq.head()"
      ]
    },
    {
      "cell_type": "markdown",
      "metadata": {
        "id": "fHn3ryGuFY62"
      },
      "source": [
        "Посмотрим информацию "
      ]
    },
    {
      "cell_type": "code",
      "execution_count": null,
      "metadata": {
        "id": "DahclZv4FY63",
        "outputId": "a1029fe0-fb39-421c-cb7b-7d6d3d2eebd9"
      },
      "outputs": [
        {
          "name": "stdout",
          "output_type": "stream",
          "text": [
            "<class 'pandas.core.frame.DataFrame'>\n",
            "RangeIndex: 13523 entries, 0 to 13522\n",
            "Data columns (total 5 columns):\n",
            " #   Column          Non-Null Count  Dtype \n",
            "---  ------          --------------  ----- \n",
            " 0   question_id     13523 non-null  int64 \n",
            " 1   bundle_id       13523 non-null  int64 \n",
            " 2   correct_answer  13523 non-null  int64 \n",
            " 3   part            13523 non-null  int64 \n",
            " 4   tags            13522 non-null  object\n",
            "dtypes: int64(4), object(1)\n",
            "memory usage: 528.4+ KB\n"
          ]
        }
      ],
      "source": [
        "dfq.info()"
      ]
    },
    {
      "cell_type": "markdown",
      "metadata": {
        "id": "Fw44V9qmFY63"
      },
      "source": [
        "Посмотрим дубликаты"
      ]
    },
    {
      "cell_type": "code",
      "execution_count": null,
      "metadata": {
        "id": "7JdBxMhyFY63",
        "outputId": "dcaa62e3-b1d7-428a-943a-d05c5968e750"
      },
      "outputs": [
        {
          "data": {
            "text/plain": [
              "0"
            ]
          },
          "execution_count": 108,
          "metadata": {},
          "output_type": "execute_result"
        }
      ],
      "source": [
        "dfq.duplicated().sum()"
      ]
    },
    {
      "cell_type": "markdown",
      "metadata": {
        "id": "QukSlNloFY63"
      },
      "source": [
        "Статистика по числовым данным"
      ]
    },
    {
      "cell_type": "code",
      "execution_count": null,
      "metadata": {
        "id": "_MXqc5O7FY64",
        "outputId": "c91b2e93-224a-409d-b2c2-f95feaa9d42e"
      },
      "outputs": [
        {
          "data": {
            "text/html": [
              "<div>\n",
              "<style scoped>\n",
              "    .dataframe tbody tr th:only-of-type {\n",
              "        vertical-align: middle;\n",
              "    }\n",
              "\n",
              "    .dataframe tbody tr th {\n",
              "        vertical-align: top;\n",
              "    }\n",
              "\n",
              "    .dataframe thead th {\n",
              "        text-align: right;\n",
              "    }\n",
              "</style>\n",
              "<table border=\"1\" class=\"dataframe\">\n",
              "  <thead>\n",
              "    <tr style=\"text-align: right;\">\n",
              "      <th></th>\n",
              "      <th>question_id</th>\n",
              "      <th>bundle_id</th>\n",
              "      <th>correct_answer</th>\n",
              "      <th>part</th>\n",
              "    </tr>\n",
              "  </thead>\n",
              "  <tbody>\n",
              "    <tr>\n",
              "      <th>count</th>\n",
              "      <td>13523.00000</td>\n",
              "      <td>13523.000000</td>\n",
              "      <td>13523.000000</td>\n",
              "      <td>13523.000000</td>\n",
              "    </tr>\n",
              "    <tr>\n",
              "      <th>mean</th>\n",
              "      <td>6761.00000</td>\n",
              "      <td>6760.510907</td>\n",
              "      <td>1.455298</td>\n",
              "      <td>4.264956</td>\n",
              "    </tr>\n",
              "    <tr>\n",
              "      <th>std</th>\n",
              "      <td>3903.89818</td>\n",
              "      <td>3903.857783</td>\n",
              "      <td>1.149707</td>\n",
              "      <td>1.652553</td>\n",
              "    </tr>\n",
              "    <tr>\n",
              "      <th>min</th>\n",
              "      <td>0.00000</td>\n",
              "      <td>0.000000</td>\n",
              "      <td>0.000000</td>\n",
              "      <td>1.000000</td>\n",
              "    </tr>\n",
              "    <tr>\n",
              "      <th>25%</th>\n",
              "      <td>3380.50000</td>\n",
              "      <td>3379.500000</td>\n",
              "      <td>0.000000</td>\n",
              "      <td>3.000000</td>\n",
              "    </tr>\n",
              "    <tr>\n",
              "      <th>50%</th>\n",
              "      <td>6761.00000</td>\n",
              "      <td>6761.000000</td>\n",
              "      <td>1.000000</td>\n",
              "      <td>5.000000</td>\n",
              "    </tr>\n",
              "    <tr>\n",
              "      <th>75%</th>\n",
              "      <td>10141.50000</td>\n",
              "      <td>10140.000000</td>\n",
              "      <td>3.000000</td>\n",
              "      <td>5.000000</td>\n",
              "    </tr>\n",
              "    <tr>\n",
              "      <th>max</th>\n",
              "      <td>13522.00000</td>\n",
              "      <td>13522.000000</td>\n",
              "      <td>3.000000</td>\n",
              "      <td>7.000000</td>\n",
              "    </tr>\n",
              "  </tbody>\n",
              "</table>\n",
              "</div>"
            ],
            "text/plain": [
              "       question_id     bundle_id  correct_answer          part\n",
              "count  13523.00000  13523.000000    13523.000000  13523.000000\n",
              "mean    6761.00000   6760.510907        1.455298      4.264956\n",
              "std     3903.89818   3903.857783        1.149707      1.652553\n",
              "min        0.00000      0.000000        0.000000      1.000000\n",
              "25%     3380.50000   3379.500000        0.000000      3.000000\n",
              "50%     6761.00000   6761.000000        1.000000      5.000000\n",
              "75%    10141.50000  10140.000000        3.000000      5.000000\n",
              "max    13522.00000  13522.000000        3.000000      7.000000"
            ]
          },
          "execution_count": 109,
          "metadata": {},
          "output_type": "execute_result"
        }
      ],
      "source": [
        "dfq.describe()"
      ]
    },
    {
      "cell_type": "markdown",
      "metadata": {
        "id": "78lILlFuFY64"
      },
      "source": [
        "Посмотрим пропуски"
      ]
    },
    {
      "cell_type": "code",
      "execution_count": null,
      "metadata": {
        "id": "2w49C-A6FY64",
        "outputId": "a8ccbee0-e590-4c0c-f779-797b15798f78"
      },
      "outputs": [
        {
          "data": {
            "text/plain": [
              "question_id       0\n",
              "bundle_id         0\n",
              "correct_answer    0\n",
              "part              0\n",
              "tags              1\n",
              "dtype: int64"
            ]
          },
          "execution_count": 110,
          "metadata": {},
          "output_type": "execute_result"
        }
      ],
      "source": [
        "dfq.isna().sum()"
      ]
    },
    {
      "cell_type": "markdown",
      "metadata": {
        "id": "UBWcPXlOFY65"
      },
      "source": [
        "Выводим 1 пропуск в столбце тегов"
      ]
    },
    {
      "cell_type": "code",
      "execution_count": null,
      "metadata": {
        "id": "pvjxxqclFY65",
        "outputId": "2ec82e25-2c1f-4fc2-b575-df5eceb18f01"
      },
      "outputs": [
        {
          "data": {
            "text/html": [
              "<div>\n",
              "<style scoped>\n",
              "    .dataframe tbody tr th:only-of-type {\n",
              "        vertical-align: middle;\n",
              "    }\n",
              "\n",
              "    .dataframe tbody tr th {\n",
              "        vertical-align: top;\n",
              "    }\n",
              "\n",
              "    .dataframe thead th {\n",
              "        text-align: right;\n",
              "    }\n",
              "</style>\n",
              "<table border=\"1\" class=\"dataframe\">\n",
              "  <thead>\n",
              "    <tr style=\"text-align: right;\">\n",
              "      <th></th>\n",
              "      <th>question_id</th>\n",
              "      <th>bundle_id</th>\n",
              "      <th>correct_answer</th>\n",
              "      <th>part</th>\n",
              "      <th>tags</th>\n",
              "    </tr>\n",
              "  </thead>\n",
              "  <tbody>\n",
              "    <tr>\n",
              "      <th>10033</th>\n",
              "      <td>10033</td>\n",
              "      <td>10033</td>\n",
              "      <td>2</td>\n",
              "      <td>6</td>\n",
              "      <td>NaN</td>\n",
              "    </tr>\n",
              "  </tbody>\n",
              "</table>\n",
              "</div>"
            ],
            "text/plain": [
              "       question_id  bundle_id  correct_answer  part tags\n",
              "10033        10033      10033               2     6  NaN"
            ]
          },
          "execution_count": 111,
          "metadata": {},
          "output_type": "execute_result"
        }
      ],
      "source": [
        "dfq[dfq.tags.isna()] "
      ]
    },
    {
      "cell_type": "markdown",
      "metadata": {
        "id": "KZNxC40uFY65"
      },
      "source": [
        "Выводим кол-во значений внешних ключей, соответствующих каждому значению в столбце разделов"
      ]
    },
    {
      "cell_type": "code",
      "execution_count": null,
      "metadata": {
        "id": "C3Gmk9rxFY65",
        "outputId": "338ef8c5-5313-4578-9d2b-a7d0e739ad38"
      },
      "outputs": [
        {
          "data": {
            "text/html": [
              "<div>\n",
              "<style scoped>\n",
              "    .dataframe tbody tr th:only-of-type {\n",
              "        vertical-align: middle;\n",
              "    }\n",
              "\n",
              "    .dataframe tbody tr th {\n",
              "        vertical-align: top;\n",
              "    }\n",
              "\n",
              "    .dataframe thead th {\n",
              "        text-align: right;\n",
              "    }\n",
              "</style>\n",
              "<table border=\"1\" class=\"dataframe\">\n",
              "  <thead>\n",
              "    <tr style=\"text-align: right;\">\n",
              "      <th></th>\n",
              "      <th>part</th>\n",
              "      <th>question_id</th>\n",
              "    </tr>\n",
              "  </thead>\n",
              "  <tbody>\n",
              "    <tr>\n",
              "      <th>0</th>\n",
              "      <td>1</td>\n",
              "      <td>992</td>\n",
              "    </tr>\n",
              "    <tr>\n",
              "      <th>1</th>\n",
              "      <td>2</td>\n",
              "      <td>1647</td>\n",
              "    </tr>\n",
              "    <tr>\n",
              "      <th>2</th>\n",
              "      <td>3</td>\n",
              "      <td>1562</td>\n",
              "    </tr>\n",
              "    <tr>\n",
              "      <th>3</th>\n",
              "      <td>4</td>\n",
              "      <td>1439</td>\n",
              "    </tr>\n",
              "    <tr>\n",
              "      <th>4</th>\n",
              "      <td>5</td>\n",
              "      <td>5511</td>\n",
              "    </tr>\n",
              "    <tr>\n",
              "      <th>5</th>\n",
              "      <td>6</td>\n",
              "      <td>1212</td>\n",
              "    </tr>\n",
              "    <tr>\n",
              "      <th>6</th>\n",
              "      <td>7</td>\n",
              "      <td>1160</td>\n",
              "    </tr>\n",
              "  </tbody>\n",
              "</table>\n",
              "</div>"
            ],
            "text/plain": [
              "   part  question_id\n",
              "0     1          992\n",
              "1     2         1647\n",
              "2     3         1562\n",
              "3     4         1439\n",
              "4     5         5511\n",
              "5     6         1212\n",
              "6     7         1160"
            ]
          },
          "execution_count": 112,
          "metadata": {},
          "output_type": "execute_result"
        }
      ],
      "source": [
        "dfq[['part', 'question_id']].groupby(['part'], as_index = False).count()"
      ]
    },
    {
      "cell_type": "code",
      "execution_count": null,
      "metadata": {
        "id": "U1CzK_XzFY65",
        "outputId": "3a13cc2b-fe5c-41ea-a234-f22c0aa46770"
      },
      "outputs": [
        {
          "data": {
            "text/plain": [
              "<AxesSubplot:xlabel='part', ylabel='Count'>"
            ]
          },
          "execution_count": 113,
          "metadata": {},
          "output_type": "execute_result"
        },
        {
          "data": {
            "image/png": "[encoded data removed]",
            "text/plain": [
              "<Figure size 432x288 with 1 Axes>"
            ]
          },
          "metadata": {
            "needs_background": "light"
          },
          "output_type": "display_data"
        }
      ],
      "source": [
        "sns.histplot(data=dfq, x = 'part', bins=7)"
      ]
    },
    {
      "cell_type": "markdown",
      "metadata": {
        "id": "qyaAH3LOFY66"
      },
      "source": [
        "Распределение равномерно по всем частям за исключением части 5"
      ]
    },
    {
      "cell_type": "markdown",
      "metadata": {
        "id": "TXzNu3YDFY66"
      },
      "source": [
        "# Анализ основной таблицы train.csv"
      ]
    },
    {
      "cell_type": "markdown",
      "metadata": {
        "id": "9py-bZotFY66"
      },
      "source": [
        "Посмотрим первые 5 строк таблицы"
      ]
    },
    {
      "cell_type": "code",
      "execution_count": null,
      "metadata": {
        "id": "WhY9MA8BFY66",
        "outputId": "20926c40-409a-45c9-8153-0c8873cfa199"
      },
      "outputs": [
        {
          "data": {
            "text/html": [
              "<div>\n",
              "<style scoped>\n",
              "    .dataframe tbody tr th:only-of-type {\n",
              "        vertical-align: middle;\n",
              "    }\n",
              "\n",
              "    .dataframe tbody tr th {\n",
              "        vertical-align: top;\n",
              "    }\n",
              "\n",
              "    .dataframe thead th {\n",
              "        text-align: right;\n",
              "    }\n",
              "</style>\n",
              "<table border=\"1\" class=\"dataframe\">\n",
              "  <thead>\n",
              "    <tr style=\"text-align: right;\">\n",
              "      <th></th>\n",
              "      <th>row_id</th>\n",
              "      <th>timestamp</th>\n",
              "      <th>user_id</th>\n",
              "      <th>content_id</th>\n",
              "      <th>content_type_id</th>\n",
              "      <th>task_container_id</th>\n",
              "      <th>user_answer</th>\n",
              "      <th>answered_correctly</th>\n",
              "      <th>prior_question_elapsed_time</th>\n",
              "      <th>prior_question_had_explanation</th>\n",
              "    </tr>\n",
              "  </thead>\n",
              "  <tbody>\n",
              "    <tr>\n",
              "      <th>0</th>\n",
              "      <td>0</td>\n",
              "      <td>0</td>\n",
              "      <td>115</td>\n",
              "      <td>5692</td>\n",
              "      <td>0</td>\n",
              "      <td>1</td>\n",
              "      <td>3</td>\n",
              "      <td>1</td>\n",
              "      <td>NaN</td>\n",
              "      <td>NaN</td>\n",
              "    </tr>\n",
              "    <tr>\n",
              "      <th>1</th>\n",
              "      <td>1</td>\n",
              "      <td>56943</td>\n",
              "      <td>115</td>\n",
              "      <td>5716</td>\n",
              "      <td>0</td>\n",
              "      <td>2</td>\n",
              "      <td>2</td>\n",
              "      <td>1</td>\n",
              "      <td>37000.0</td>\n",
              "      <td>False</td>\n",
              "    </tr>\n",
              "    <tr>\n",
              "      <th>2</th>\n",
              "      <td>2</td>\n",
              "      <td>118363</td>\n",
              "      <td>115</td>\n",
              "      <td>128</td>\n",
              "      <td>0</td>\n",
              "      <td>0</td>\n",
              "      <td>0</td>\n",
              "      <td>1</td>\n",
              "      <td>55000.0</td>\n",
              "      <td>False</td>\n",
              "    </tr>\n",
              "    <tr>\n",
              "      <th>3</th>\n",
              "      <td>3</td>\n",
              "      <td>131167</td>\n",
              "      <td>115</td>\n",
              "      <td>7860</td>\n",
              "      <td>0</td>\n",
              "      <td>3</td>\n",
              "      <td>0</td>\n",
              "      <td>1</td>\n",
              "      <td>19000.0</td>\n",
              "      <td>False</td>\n",
              "    </tr>\n",
              "    <tr>\n",
              "      <th>4</th>\n",
              "      <td>4</td>\n",
              "      <td>137965</td>\n",
              "      <td>115</td>\n",
              "      <td>7922</td>\n",
              "      <td>0</td>\n",
              "      <td>4</td>\n",
              "      <td>1</td>\n",
              "      <td>1</td>\n",
              "      <td>11000.0</td>\n",
              "      <td>False</td>\n",
              "    </tr>\n",
              "  </tbody>\n",
              "</table>\n",
              "</div>"
            ],
            "text/plain": [
              "   row_id  timestamp  user_id  content_id  content_type_id  task_container_id  \\\n",
              "0       0          0      115        5692                0                  1   \n",
              "1       1      56943      115        5716                0                  2   \n",
              "2       2     118363      115         128                0                  0   \n",
              "3       3     131167      115        7860                0                  3   \n",
              "4       4     137965      115        7922                0                  4   \n",
              "\n",
              "   user_answer  answered_correctly  prior_question_elapsed_time  \\\n",
              "0            3                   1                          NaN   \n",
              "1            2                   1                      37000.0   \n",
              "2            0                   1                      55000.0   \n",
              "3            0                   1                      19000.0   \n",
              "4            1                   1                      11000.0   \n",
              "\n",
              "  prior_question_had_explanation  \n",
              "0                            NaN  \n",
              "1                          False  \n",
              "2                          False  \n",
              "3                          False  \n",
              "4                          False  "
            ]
          },
          "execution_count": 114,
          "metadata": {},
          "output_type": "execute_result"
        }
      ],
      "source": [
        "dft.head()"
      ]
    },
    {
      "cell_type": "markdown",
      "metadata": {
        "id": "7eNzAE0bFY66"
      },
      "source": [
        "Посмотрим информацию "
      ]
    },
    {
      "cell_type": "code",
      "execution_count": null,
      "metadata": {
        "id": "6LTDJzqRFY66",
        "outputId": "f887b283-fbe9-448e-9dae-9a40b3c509da"
      },
      "outputs": [
        {
          "name": "stdout",
          "output_type": "stream",
          "text": [
            "<class 'pandas.core.frame.DataFrame'>\n",
            "RangeIndex: 1000000 entries, 0 to 999999\n",
            "Data columns (total 10 columns):\n",
            " #   Column                          Non-Null Count    Dtype  \n",
            "---  ------                          --------------    -----  \n",
            " 0   row_id                          1000000 non-null  int64  \n",
            " 1   timestamp                       1000000 non-null  int64  \n",
            " 2   user_id                         1000000 non-null  int64  \n",
            " 3   content_id                      1000000 non-null  int64  \n",
            " 4   content_type_id                 1000000 non-null  int64  \n",
            " 5   task_container_id               1000000 non-null  int64  \n",
            " 6   user_answer                     1000000 non-null  int64  \n",
            " 7   answered_correctly              1000000 non-null  int64  \n",
            " 8   prior_question_elapsed_time     976277 non-null   float64\n",
            " 9   prior_question_had_explanation  996184 non-null   object \n",
            "dtypes: float64(1), int64(8), object(1)\n",
            "memory usage: 76.3+ MB\n"
          ]
        }
      ],
      "source": [
        "dft.info()"
      ]
    },
    {
      "cell_type": "markdown",
      "metadata": {
        "id": "DfVScJfSFY66"
      },
      "source": [
        "Посмотрим дубликаты"
      ]
    },
    {
      "cell_type": "code",
      "execution_count": null,
      "metadata": {
        "id": "8eUoOKVRFY66",
        "outputId": "7c493d9a-f933-42f5-a610-0eacc4bc4a1f"
      },
      "outputs": [
        {
          "data": {
            "text/plain": [
              "0"
            ]
          },
          "execution_count": 116,
          "metadata": {},
          "output_type": "execute_result"
        }
      ],
      "source": [
        "dft.duplicated().sum()"
      ]
    },
    {
      "cell_type": "markdown",
      "metadata": {
        "id": "z5LUjZeiFY67"
      },
      "source": [
        "Посмотрим пропуски "
      ]
    },
    {
      "cell_type": "code",
      "execution_count": null,
      "metadata": {
        "id": "-BBjzt76FY67",
        "outputId": "ee1d5f37-b196-4c2c-9448-4be4ed1f70c2"
      },
      "outputs": [
        {
          "data": {
            "text/plain": [
              "row_id                                0\n",
              "timestamp                             0\n",
              "user_id                               0\n",
              "content_id                            0\n",
              "content_type_id                       0\n",
              "task_container_id                     0\n",
              "user_answer                           0\n",
              "answered_correctly                    0\n",
              "prior_question_elapsed_time       23723\n",
              "prior_question_had_explanation     3816\n",
              "dtype: int64"
            ]
          },
          "execution_count": 117,
          "metadata": {},
          "output_type": "execute_result"
        }
      ],
      "source": [
        "dft.isna().sum()"
      ]
    },
    {
      "cell_type": "markdown",
      "metadata": {
        "id": "IJD-dnihFY67"
      },
      "source": [
        "Выведем пропуски и посмотрим чем они обусловленны"
      ]
    },
    {
      "cell_type": "code",
      "execution_count": null,
      "metadata": {
        "id": "EEhTpMoYFY67",
        "outputId": "b0940d2a-05fd-4e24-87f1-bdedd2711434"
      },
      "outputs": [
        {
          "data": {
            "text/html": [
              "<div>\n",
              "<style scoped>\n",
              "    .dataframe tbody tr th:only-of-type {\n",
              "        vertical-align: middle;\n",
              "    }\n",
              "\n",
              "    .dataframe tbody tr th {\n",
              "        vertical-align: top;\n",
              "    }\n",
              "\n",
              "    .dataframe thead th {\n",
              "        text-align: right;\n",
              "    }\n",
              "</style>\n",
              "<table border=\"1\" class=\"dataframe\">\n",
              "  <thead>\n",
              "    <tr style=\"text-align: right;\">\n",
              "      <th></th>\n",
              "      <th>row_id</th>\n",
              "      <th>timestamp</th>\n",
              "      <th>user_id</th>\n",
              "      <th>content_id</th>\n",
              "      <th>content_type_id</th>\n",
              "      <th>task_container_id</th>\n",
              "      <th>user_answer</th>\n",
              "      <th>answered_correctly</th>\n",
              "      <th>prior_question_elapsed_time</th>\n",
              "      <th>prior_question_had_explanation</th>\n",
              "    </tr>\n",
              "  </thead>\n",
              "  <tbody>\n",
              "    <tr>\n",
              "      <th>0</th>\n",
              "      <td>0</td>\n",
              "      <td>0</td>\n",
              "      <td>115</td>\n",
              "      <td>5692</td>\n",
              "      <td>0</td>\n",
              "      <td>1</td>\n",
              "      <td>3</td>\n",
              "      <td>1</td>\n",
              "      <td>NaN</td>\n",
              "      <td>NaN</td>\n",
              "    </tr>\n",
              "    <tr>\n",
              "      <th>46</th>\n",
              "      <td>46</td>\n",
              "      <td>0</td>\n",
              "      <td>124</td>\n",
              "      <td>7900</td>\n",
              "      <td>0</td>\n",
              "      <td>0</td>\n",
              "      <td>0</td>\n",
              "      <td>1</td>\n",
              "      <td>NaN</td>\n",
              "      <td>NaN</td>\n",
              "    </tr>\n",
              "    <tr>\n",
              "      <th>76</th>\n",
              "      <td>76</td>\n",
              "      <td>0</td>\n",
              "      <td>2746</td>\n",
              "      <td>5273</td>\n",
              "      <td>0</td>\n",
              "      <td>0</td>\n",
              "      <td>1</td>\n",
              "      <td>0</td>\n",
              "      <td>NaN</td>\n",
              "      <td>NaN</td>\n",
              "    </tr>\n",
              "    <tr>\n",
              "      <th>89</th>\n",
              "      <td>89</td>\n",
              "      <td>653762</td>\n",
              "      <td>2746</td>\n",
              "      <td>6808</td>\n",
              "      <td>1</td>\n",
              "      <td>14</td>\n",
              "      <td>-1</td>\n",
              "      <td>-1</td>\n",
              "      <td>NaN</td>\n",
              "      <td>False</td>\n",
              "    </tr>\n",
              "    <tr>\n",
              "      <th>96</th>\n",
              "      <td>96</td>\n",
              "      <td>0</td>\n",
              "      <td>5382</td>\n",
              "      <td>5000</td>\n",
              "      <td>0</td>\n",
              "      <td>0</td>\n",
              "      <td>0</td>\n",
              "      <td>1</td>\n",
              "      <td>NaN</td>\n",
              "      <td>NaN</td>\n",
              "    </tr>\n",
              "    <tr>\n",
              "      <th>...</th>\n",
              "      <td>...</td>\n",
              "      <td>...</td>\n",
              "      <td>...</td>\n",
              "      <td>...</td>\n",
              "      <td>...</td>\n",
              "      <td>...</td>\n",
              "      <td>...</td>\n",
              "      <td>...</td>\n",
              "      <td>...</td>\n",
              "      <td>...</td>\n",
              "    </tr>\n",
              "    <tr>\n",
              "      <th>999762</th>\n",
              "      <td>999762</td>\n",
              "      <td>207265143</td>\n",
              "      <td>20938253</td>\n",
              "      <td>26404</td>\n",
              "      <td>1</td>\n",
              "      <td>308</td>\n",
              "      <td>-1</td>\n",
              "      <td>-1</td>\n",
              "      <td>NaN</td>\n",
              "      <td>False</td>\n",
              "    </tr>\n",
              "    <tr>\n",
              "      <th>999790</th>\n",
              "      <td>999790</td>\n",
              "      <td>208152685</td>\n",
              "      <td>20938253</td>\n",
              "      <td>22362</td>\n",
              "      <td>1</td>\n",
              "      <td>336</td>\n",
              "      <td>-1</td>\n",
              "      <td>-1</td>\n",
              "      <td>NaN</td>\n",
              "      <td>False</td>\n",
              "    </tr>\n",
              "    <tr>\n",
              "      <th>999859</th>\n",
              "      <td>999859</td>\n",
              "      <td>1142327350</td>\n",
              "      <td>20938253</td>\n",
              "      <td>1731</td>\n",
              "      <td>1</td>\n",
              "      <td>406</td>\n",
              "      <td>-1</td>\n",
              "      <td>-1</td>\n",
              "      <td>NaN</td>\n",
              "      <td>False</td>\n",
              "    </tr>\n",
              "    <tr>\n",
              "      <th>999901</th>\n",
              "      <td>999901</td>\n",
              "      <td>0</td>\n",
              "      <td>20948951</td>\n",
              "      <td>6040</td>\n",
              "      <td>0</td>\n",
              "      <td>0</td>\n",
              "      <td>3</td>\n",
              "      <td>0</td>\n",
              "      <td>NaN</td>\n",
              "      <td>NaN</td>\n",
              "    </tr>\n",
              "    <tr>\n",
              "      <th>999952</th>\n",
              "      <td>999952</td>\n",
              "      <td>0</td>\n",
              "      <td>20949024</td>\n",
              "      <td>7900</td>\n",
              "      <td>0</td>\n",
              "      <td>0</td>\n",
              "      <td>0</td>\n",
              "      <td>1</td>\n",
              "      <td>NaN</td>\n",
              "      <td>NaN</td>\n",
              "    </tr>\n",
              "  </tbody>\n",
              "</table>\n",
              "<p>23723 rows × 10 columns</p>\n",
              "</div>"
            ],
            "text/plain": [
              "        row_id   timestamp   user_id  content_id  content_type_id  \\\n",
              "0            0           0       115        5692                0   \n",
              "46          46           0       124        7900                0   \n",
              "76          76           0      2746        5273                0   \n",
              "89          89      653762      2746        6808                1   \n",
              "96          96           0      5382        5000                0   \n",
              "...        ...         ...       ...         ...              ...   \n",
              "999762  999762   207265143  20938253       26404                1   \n",
              "999790  999790   208152685  20938253       22362                1   \n",
              "999859  999859  1142327350  20938253        1731                1   \n",
              "999901  999901           0  20948951        6040                0   \n",
              "999952  999952           0  20949024        7900                0   \n",
              "\n",
              "        task_container_id  user_answer  answered_correctly  \\\n",
              "0                       1            3                   1   \n",
              "46                      0            0                   1   \n",
              "76                      0            1                   0   \n",
              "89                     14           -1                  -1   \n",
              "96                      0            0                   1   \n",
              "...                   ...          ...                 ...   \n",
              "999762                308           -1                  -1   \n",
              "999790                336           -1                  -1   \n",
              "999859                406           -1                  -1   \n",
              "999901                  0            3                   0   \n",
              "999952                  0            0                   1   \n",
              "\n",
              "        prior_question_elapsed_time prior_question_had_explanation  \n",
              "0                               NaN                            NaN  \n",
              "46                              NaN                            NaN  \n",
              "76                              NaN                            NaN  \n",
              "89                              NaN                          False  \n",
              "96                              NaN                            NaN  \n",
              "...                             ...                            ...  \n",
              "999762                          NaN                          False  \n",
              "999790                          NaN                          False  \n",
              "999859                          NaN                          False  \n",
              "999901                          NaN                            NaN  \n",
              "999952                          NaN                            NaN  \n",
              "\n",
              "[23723 rows x 10 columns]"
            ]
          },
          "execution_count": 118,
          "metadata": {},
          "output_type": "execute_result"
        }
      ],
      "source": [
        "dft[dft.prior_question_elapsed_time.isna()]"
      ]
    },
    {
      "cell_type": "code",
      "execution_count": null,
      "metadata": {
        "id": "Yq_v9yJ_FY67",
        "outputId": "30fd2d0d-9118-4543-dba8-5118574e9023"
      },
      "outputs": [
        {
          "data": {
            "text/html": [
              "<div>\n",
              "<style scoped>\n",
              "    .dataframe tbody tr th:only-of-type {\n",
              "        vertical-align: middle;\n",
              "    }\n",
              "\n",
              "    .dataframe tbody tr th {\n",
              "        vertical-align: top;\n",
              "    }\n",
              "\n",
              "    .dataframe thead th {\n",
              "        text-align: right;\n",
              "    }\n",
              "</style>\n",
              "<table border=\"1\" class=\"dataframe\">\n",
              "  <thead>\n",
              "    <tr style=\"text-align: right;\">\n",
              "      <th></th>\n",
              "      <th>row_id</th>\n",
              "      <th>timestamp</th>\n",
              "      <th>user_id</th>\n",
              "      <th>content_id</th>\n",
              "      <th>content_type_id</th>\n",
              "      <th>task_container_id</th>\n",
              "      <th>user_answer</th>\n",
              "      <th>answered_correctly</th>\n",
              "      <th>prior_question_elapsed_time</th>\n",
              "      <th>prior_question_had_explanation</th>\n",
              "    </tr>\n",
              "  </thead>\n",
              "  <tbody>\n",
              "    <tr>\n",
              "      <th>0</th>\n",
              "      <td>0</td>\n",
              "      <td>0</td>\n",
              "      <td>115</td>\n",
              "      <td>5692</td>\n",
              "      <td>0</td>\n",
              "      <td>1</td>\n",
              "      <td>3</td>\n",
              "      <td>1</td>\n",
              "      <td>NaN</td>\n",
              "      <td>NaN</td>\n",
              "    </tr>\n",
              "    <tr>\n",
              "      <th>46</th>\n",
              "      <td>46</td>\n",
              "      <td>0</td>\n",
              "      <td>124</td>\n",
              "      <td>7900</td>\n",
              "      <td>0</td>\n",
              "      <td>0</td>\n",
              "      <td>0</td>\n",
              "      <td>1</td>\n",
              "      <td>NaN</td>\n",
              "      <td>NaN</td>\n",
              "    </tr>\n",
              "    <tr>\n",
              "      <th>76</th>\n",
              "      <td>76</td>\n",
              "      <td>0</td>\n",
              "      <td>2746</td>\n",
              "      <td>5273</td>\n",
              "      <td>0</td>\n",
              "      <td>0</td>\n",
              "      <td>1</td>\n",
              "      <td>0</td>\n",
              "      <td>NaN</td>\n",
              "      <td>NaN</td>\n",
              "    </tr>\n",
              "    <tr>\n",
              "      <th>96</th>\n",
              "      <td>96</td>\n",
              "      <td>0</td>\n",
              "      <td>5382</td>\n",
              "      <td>5000</td>\n",
              "      <td>0</td>\n",
              "      <td>0</td>\n",
              "      <td>0</td>\n",
              "      <td>1</td>\n",
              "      <td>NaN</td>\n",
              "      <td>NaN</td>\n",
              "    </tr>\n",
              "    <tr>\n",
              "      <th>224</th>\n",
              "      <td>224</td>\n",
              "      <td>0</td>\n",
              "      <td>8623</td>\n",
              "      <td>3915</td>\n",
              "      <td>0</td>\n",
              "      <td>0</td>\n",
              "      <td>3</td>\n",
              "      <td>1</td>\n",
              "      <td>NaN</td>\n",
              "      <td>NaN</td>\n",
              "    </tr>\n",
              "    <tr>\n",
              "      <th>...</th>\n",
              "      <td>...</td>\n",
              "      <td>...</td>\n",
              "      <td>...</td>\n",
              "      <td>...</td>\n",
              "      <td>...</td>\n",
              "      <td>...</td>\n",
              "      <td>...</td>\n",
              "      <td>...</td>\n",
              "      <td>...</td>\n",
              "      <td>...</td>\n",
              "    </tr>\n",
              "    <tr>\n",
              "      <th>998929</th>\n",
              "      <td>998929</td>\n",
              "      <td>0</td>\n",
              "      <td>20913319</td>\n",
              "      <td>6659</td>\n",
              "      <td>0</td>\n",
              "      <td>0</td>\n",
              "      <td>1</td>\n",
              "      <td>0</td>\n",
              "      <td>NaN</td>\n",
              "      <td>NaN</td>\n",
              "    </tr>\n",
              "    <tr>\n",
              "      <th>999345</th>\n",
              "      <td>999345</td>\n",
              "      <td>0</td>\n",
              "      <td>20913864</td>\n",
              "      <td>4790</td>\n",
              "      <td>0</td>\n",
              "      <td>0</td>\n",
              "      <td>1</td>\n",
              "      <td>1</td>\n",
              "      <td>NaN</td>\n",
              "      <td>NaN</td>\n",
              "    </tr>\n",
              "    <tr>\n",
              "      <th>999366</th>\n",
              "      <td>999366</td>\n",
              "      <td>0</td>\n",
              "      <td>20938253</td>\n",
              "      <td>7900</td>\n",
              "      <td>0</td>\n",
              "      <td>0</td>\n",
              "      <td>2</td>\n",
              "      <td>0</td>\n",
              "      <td>NaN</td>\n",
              "      <td>NaN</td>\n",
              "    </tr>\n",
              "    <tr>\n",
              "      <th>999901</th>\n",
              "      <td>999901</td>\n",
              "      <td>0</td>\n",
              "      <td>20948951</td>\n",
              "      <td>6040</td>\n",
              "      <td>0</td>\n",
              "      <td>0</td>\n",
              "      <td>3</td>\n",
              "      <td>0</td>\n",
              "      <td>NaN</td>\n",
              "      <td>NaN</td>\n",
              "    </tr>\n",
              "    <tr>\n",
              "      <th>999952</th>\n",
              "      <td>999952</td>\n",
              "      <td>0</td>\n",
              "      <td>20949024</td>\n",
              "      <td>7900</td>\n",
              "      <td>0</td>\n",
              "      <td>0</td>\n",
              "      <td>0</td>\n",
              "      <td>1</td>\n",
              "      <td>NaN</td>\n",
              "      <td>NaN</td>\n",
              "    </tr>\n",
              "  </tbody>\n",
              "</table>\n",
              "<p>3816 rows × 10 columns</p>\n",
              "</div>"
            ],
            "text/plain": [
              "        row_id  timestamp   user_id  content_id  content_type_id  \\\n",
              "0            0          0       115        5692                0   \n",
              "46          46          0       124        7900                0   \n",
              "76          76          0      2746        5273                0   \n",
              "96          96          0      5382        5000                0   \n",
              "224        224          0      8623        3915                0   \n",
              "...        ...        ...       ...         ...              ...   \n",
              "998929  998929          0  20913319        6659                0   \n",
              "999345  999345          0  20913864        4790                0   \n",
              "999366  999366          0  20938253        7900                0   \n",
              "999901  999901          0  20948951        6040                0   \n",
              "999952  999952          0  20949024        7900                0   \n",
              "\n",
              "        task_container_id  user_answer  answered_correctly  \\\n",
              "0                       1            3                   1   \n",
              "46                      0            0                   1   \n",
              "76                      0            1                   0   \n",
              "96                      0            0                   1   \n",
              "224                     0            3                   1   \n",
              "...                   ...          ...                 ...   \n",
              "998929                  0            1                   0   \n",
              "999345                  0            1                   1   \n",
              "999366                  0            2                   0   \n",
              "999901                  0            3                   0   \n",
              "999952                  0            0                   1   \n",
              "\n",
              "        prior_question_elapsed_time prior_question_had_explanation  \n",
              "0                               NaN                            NaN  \n",
              "46                              NaN                            NaN  \n",
              "76                              NaN                            NaN  \n",
              "96                              NaN                            NaN  \n",
              "224                             NaN                            NaN  \n",
              "...                             ...                            ...  \n",
              "998929                          NaN                            NaN  \n",
              "999345                          NaN                            NaN  \n",
              "999366                          NaN                            NaN  \n",
              "999901                          NaN                            NaN  \n",
              "999952                          NaN                            NaN  \n",
              "\n",
              "[3816 rows x 10 columns]"
            ]
          },
          "execution_count": 119,
          "metadata": {},
          "output_type": "execute_result"
        }
      ],
      "source": [
        "dft[dft.prior_question_had_explanation.isna()]"
      ]
    },
    {
      "cell_type": "markdown",
      "metadata": {
        "id": "wJl_iOyTFY67"
      },
      "source": [
        "Они обусловлены условием: имеет значение null для 1-го набора вопросов или лекции."
      ]
    },
    {
      "cell_type": "markdown",
      "metadata": {
        "id": "DBs9WO4NFY67"
      },
      "source": [
        "Выведем числовые и категориальные данные"
      ]
    },
    {
      "cell_type": "code",
      "execution_count": null,
      "metadata": {
        "id": "vGD-YdaRFY67",
        "outputId": "b10fbf8c-ead8-4343-df3f-2795ace2409a"
      },
      "outputs": [
        {
          "name": "stdout",
          "output_type": "stream",
          "text": [
            "Категориальные данные:\t  ['prior_question_had_explanation'] \n",
            " Число столблцов = 1\n",
            "Числовые данные:\t  ['row_id', 'timestamp', 'user_id', 'content_id', 'content_type_id', 'task_container_id', 'user_answer', 'answered_correctly', 'prior_question_elapsed_time'] \n",
            " Число столблцов = 9\n"
          ]
        }
      ],
      "source": [
        "cat_columns = []\n",
        "num_columns = []\n",
        "\n",
        "for column_name in dft.columns:\n",
        "    if (dft[column_name].dtypes == object):\n",
        "        cat_columns += [column_name]\n",
        "    else:\n",
        "        num_columns += [column_name]\n",
        "\n",
        "print('Категориальные данные:\\t ',cat_columns, '\\n Число столблцов =', len(cat_columns))\n",
        "print('Числовые данные:\\t ', num_columns, '\\n Число столблцов =', len(num_columns))"
      ]
    },
    {
      "cell_type": "markdown",
      "metadata": {
        "id": "riCXaoIEFY68"
      },
      "source": [
        "Рассмотрим гистограммы (распределение) значений по каждому числовому признаку (столбцу)"
      ]
    },
    {
      "cell_type": "code",
      "execution_count": null,
      "metadata": {
        "id": "9eqpviBAFY68",
        "outputId": "e7d5d46a-7691-43f0-ec09-aad3c9988576"
      },
      "outputs": [
        {
          "data": {
            "image/png": "[encoded data removed]",
            "text/plain": [
              "<Figure size 1080x1440 with 10 Axes>"
            ]
          },
          "metadata": {
            "needs_background": "light"
          },
          "output_type": "display_data"
        }
      ],
      "source": [
        "width = 2\n",
        "height = int(np.ceil(len(num_columns)/width))\n",
        "fig, ax = plt.subplots(nrows=height, ncols=width, figsize=(15,20))\n",
        "\n",
        "for idx, column_name in enumerate(num_columns):\n",
        "\n",
        "    plt.subplot(height,width, idx+1)\n",
        "    sns.histplot(data=dft,\n",
        "            x=column_name, bins = 20);"
      ]
    },
    {
      "cell_type": "markdown",
      "metadata": {
        "id": "N_IT-vJiFY68"
      },
      "source": [
        "## Рассмотрим корреляцию числовых признаков"
      ]
    },
    {
      "cell_type": "code",
      "execution_count": null,
      "metadata": {
        "id": "wT4v8u4eFY68",
        "outputId": "8dd6396e-7ec9-40f1-856b-874f584201e0"
      },
      "outputs": [
        {
          "data": {
            "text/html": [
              "<style type=\"text/css\">\n",
              "#T_b07e4_row0_col0, #T_b07e4_row1_col1, #T_b07e4_row2_col2, #T_b07e4_row3_col3, #T_b07e4_row4_col4, #T_b07e4_row5_col5, #T_b07e4_row6_col6, #T_b07e4_row7_col7 {\n",
              "  background-color: #a9373b;\n",
              "  color: #f1f1f1;\n",
              "}\n",
              "#T_b07e4_row0_col1, #T_b07e4_row0_col5, #T_b07e4_row1_col0, #T_b07e4_row1_col2, #T_b07e4_row1_col5, #T_b07e4_row1_col6, #T_b07e4_row2_col1, #T_b07e4_row3_col4, #T_b07e4_row4_col3, #T_b07e4_row5_col0, #T_b07e4_row5_col1, #T_b07e4_row6_col1 {\n",
              "  background-color: #faf5f5;\n",
              "  color: #000000;\n",
              "}\n",
              "#T_b07e4_row0_col2, #T_b07e4_row2_col0 {\n",
              "  background-color: #faf3f2;\n",
              "  color: #000000;\n",
              "}\n",
              "#T_b07e4_row0_col3, #T_b07e4_row1_col3, #T_b07e4_row3_col0, #T_b07e4_row3_col1, #T_b07e4_row4_col5, #T_b07e4_row5_col4, #T_b07e4_row5_col7, #T_b07e4_row6_col7, #T_b07e4_row7_col5, #T_b07e4_row7_col6 {\n",
              "  background-color: #faf5f4;\n",
              "  color: #000000;\n",
              "}\n",
              "#T_b07e4_row0_col4, #T_b07e4_row4_col0 {\n",
              "  background-color: #deb2b0;\n",
              "  color: #000000;\n",
              "}\n",
              "#T_b07e4_row0_col6, #T_b07e4_row6_col0 {\n",
              "  background-color: #faf3f3;\n",
              "  color: #000000;\n",
              "}\n",
              "#T_b07e4_row0_col7, #T_b07e4_row1_col7, #T_b07e4_row7_col0, #T_b07e4_row7_col1 {\n",
              "  background-color: #faf4f3;\n",
              "  color: #000000;\n",
              "}\n",
              "#T_b07e4_row1_col4, #T_b07e4_row4_col1 {\n",
              "  background-color: #f2f0f2;\n",
              "  color: #000000;\n",
              "}\n",
              "#T_b07e4_row2_col3, #T_b07e4_row3_col2 {\n",
              "  background-color: #daa8a5;\n",
              "  color: #000000;\n",
              "}\n",
              "#T_b07e4_row2_col4, #T_b07e4_row4_col2 {\n",
              "  background-color: #f9eeed;\n",
              "  color: #000000;\n",
              "}\n",
              "#T_b07e4_row2_col5, #T_b07e4_row5_col2 {\n",
              "  background-color: #ebeaee;\n",
              "  color: #000000;\n",
              "}\n",
              "#T_b07e4_row2_col6, #T_b07e4_row6_col2 {\n",
              "  background-color: #d7dae4;\n",
              "  color: #000000;\n",
              "}\n",
              "#T_b07e4_row2_col7, #T_b07e4_row7_col2 {\n",
              "  background-color: #f1dddb;\n",
              "  color: #000000;\n",
              "}\n",
              "#T_b07e4_row3_col5, #T_b07e4_row5_col3 {\n",
              "  background-color: #c7cedc;\n",
              "  color: #000000;\n",
              "}\n",
              "#T_b07e4_row3_col6, #T_b07e4_row6_col3 {\n",
              "  background-color: #a7b6ce;\n",
              "  color: #000000;\n",
              "}\n",
              "#T_b07e4_row3_col7, #T_b07e4_row7_col3 {\n",
              "  background-color: #000000;\n",
              "  color: #f1f1f1;\n",
              "}\n",
              "#T_b07e4_row4_col6, #T_b07e4_row6_col4 {\n",
              "  background-color: #faf2f1;\n",
              "  color: #000000;\n",
              "}\n",
              "#T_b07e4_row4_col7, #T_b07e4_row7_col4 {\n",
              "  background-color: #f7f4f4;\n",
              "  color: #000000;\n",
              "}\n",
              "#T_b07e4_row5_col6, #T_b07e4_row6_col5 {\n",
              "  background-color: #f3e2e0;\n",
              "  color: #000000;\n",
              "}\n",
              "</style>\n",
              "<table id=\"T_b07e4\">\n",
              "  <thead>\n",
              "    <tr>\n",
              "      <th class=\"blank level0\" >&nbsp;</th>\n",
              "      <th id=\"T_b07e4_level0_col0\" class=\"col_heading level0 col0\" >timestamp</th>\n",
              "      <th id=\"T_b07e4_level0_col1\" class=\"col_heading level0 col1\" >user_id</th>\n",
              "      <th id=\"T_b07e4_level0_col2\" class=\"col_heading level0 col2\" >content_id</th>\n",
              "      <th id=\"T_b07e4_level0_col3\" class=\"col_heading level0 col3\" >content_type_id</th>\n",
              "      <th id=\"T_b07e4_level0_col4\" class=\"col_heading level0 col4\" >task_container_id</th>\n",
              "      <th id=\"T_b07e4_level0_col5\" class=\"col_heading level0 col5\" >user_answer</th>\n",
              "      <th id=\"T_b07e4_level0_col6\" class=\"col_heading level0 col6\" >answered_correctly</th>\n",
              "      <th id=\"T_b07e4_level0_col7\" class=\"col_heading level0 col7\" >prior_question_elapsed_time</th>\n",
              "    </tr>\n",
              "  </thead>\n",
              "  <tbody>\n",
              "    <tr>\n",
              "      <th id=\"T_b07e4_level0_row0\" class=\"row_heading level0 row0\" >timestamp</th>\n",
              "      <td id=\"T_b07e4_row0_col0\" class=\"data row0 col0\" >1.000000</td>\n",
              "      <td id=\"T_b07e4_row0_col1\" class=\"data row0 col1\" >-0.001041</td>\n",
              "      <td id=\"T_b07e4_row0_col2\" class=\"data row0 col2\" >0.032189</td>\n",
              "      <td id=\"T_b07e4_row0_col3\" class=\"data row0 col3\" >0.007441</td>\n",
              "      <td id=\"T_b07e4_row0_col4\" class=\"data row0 col4\" >0.364525</td>\n",
              "      <td id=\"T_b07e4_row0_col5\" class=\"data row0 col5\" >-0.001796</td>\n",
              "      <td id=\"T_b07e4_row0_col6\" class=\"data row0 col6\" >0.027571</td>\n",
              "      <td id=\"T_b07e4_row0_col7\" class=\"data row0 col7\" >0.016144</td>\n",
              "    </tr>\n",
              "    <tr>\n",
              "      <th id=\"T_b07e4_level0_row1\" class=\"row_heading level0 row1\" >user_id</th>\n",
              "      <td id=\"T_b07e4_row1_col0\" class=\"data row1 col0\" >-0.001041</td>\n",
              "      <td id=\"T_b07e4_row1_col1\" class=\"data row1 col1\" >1.000000</td>\n",
              "      <td id=\"T_b07e4_row1_col2\" class=\"data row1 col2\" >-0.007103</td>\n",
              "      <td id=\"T_b07e4_row1_col3\" class=\"data row1 col3\" >0.004102</td>\n",
              "      <td id=\"T_b07e4_row1_col4\" class=\"data row1 col4\" >-0.072862</td>\n",
              "      <td id=\"T_b07e4_row1_col5\" class=\"data row1 col5\" >-0.002361</td>\n",
              "      <td id=\"T_b07e4_row1_col6\" class=\"data row1 col6\" >-0.014776</td>\n",
              "      <td id=\"T_b07e4_row1_col7\" class=\"data row1 col7\" >0.016981</td>\n",
              "    </tr>\n",
              "    <tr>\n",
              "      <th id=\"T_b07e4_level0_row2\" class=\"row_heading level0 row2\" >content_id</th>\n",
              "      <td id=\"T_b07e4_row2_col0\" class=\"data row2 col0\" >0.032189</td>\n",
              "      <td id=\"T_b07e4_row2_col1\" class=\"data row2 col1\" >-0.007103</td>\n",
              "      <td id=\"T_b07e4_row2_col2\" class=\"data row2 col2\" >1.000000</td>\n",
              "      <td id=\"T_b07e4_row2_col3\" class=\"data row2 col3\" >0.420121</td>\n",
              "      <td id=\"T_b07e4_row2_col4\" class=\"data row2 col4\" >0.062908</td>\n",
              "      <td id=\"T_b07e4_row2_col5\" class=\"data row2 col5\" >-0.110374</td>\n",
              "      <td id=\"T_b07e4_row2_col6\" class=\"data row2 col6\" >-0.203327</td>\n",
              "      <td id=\"T_b07e4_row2_col7\" class=\"data row2 col7\" >0.149778</td>\n",
              "    </tr>\n",
              "    <tr>\n",
              "      <th id=\"T_b07e4_level0_row3\" class=\"row_heading level0 row3\" >content_type_id</th>\n",
              "      <td id=\"T_b07e4_row3_col0\" class=\"data row3 col0\" >0.007441</td>\n",
              "      <td id=\"T_b07e4_row3_col1\" class=\"data row3 col1\" >0.004102</td>\n",
              "      <td id=\"T_b07e4_row3_col2\" class=\"data row3 col2\" >0.420121</td>\n",
              "      <td id=\"T_b07e4_row3_col3\" class=\"data row3 col3\" >1.000000</td>\n",
              "      <td id=\"T_b07e4_row3_col4\" class=\"data row3 col4\" >-0.013024</td>\n",
              "      <td id=\"T_b07e4_row3_col5\" class=\"data row3 col5\" >-0.283418</td>\n",
              "      <td id=\"T_b07e4_row3_col6\" class=\"data row3 col6\" >-0.438788</td>\n",
              "      <td id=\"T_b07e4_row3_col7\" class=\"data row3 col7\" >nan</td>\n",
              "    </tr>\n",
              "    <tr>\n",
              "      <th id=\"T_b07e4_level0_row4\" class=\"row_heading level0 row4\" >task_container_id</th>\n",
              "      <td id=\"T_b07e4_row4_col0\" class=\"data row4 col0\" >0.364525</td>\n",
              "      <td id=\"T_b07e4_row4_col1\" class=\"data row4 col1\" >-0.072862</td>\n",
              "      <td id=\"T_b07e4_row4_col2\" class=\"data row4 col2\" >0.062908</td>\n",
              "      <td id=\"T_b07e4_row4_col3\" class=\"data row4 col3\" >-0.013024</td>\n",
              "      <td id=\"T_b07e4_row4_col4\" class=\"data row4 col4\" >1.000000</td>\n",
              "      <td id=\"T_b07e4_row4_col5\" class=\"data row4 col5\" >0.012135</td>\n",
              "      <td id=\"T_b07e4_row4_col6\" class=\"data row4 col6\" >0.039130</td>\n",
              "      <td id=\"T_b07e4_row4_col7\" class=\"data row4 col7\" >-0.043670</td>\n",
              "    </tr>\n",
              "    <tr>\n",
              "      <th id=\"T_b07e4_level0_row5\" class=\"row_heading level0 row5\" >user_answer</th>\n",
              "      <td id=\"T_b07e4_row5_col0\" class=\"data row5 col0\" >-0.001796</td>\n",
              "      <td id=\"T_b07e4_row5_col1\" class=\"data row5 col1\" >-0.002361</td>\n",
              "      <td id=\"T_b07e4_row5_col2\" class=\"data row5 col2\" >-0.110374</td>\n",
              "      <td id=\"T_b07e4_row5_col3\" class=\"data row5 col3\" >-0.283418</td>\n",
              "      <td id=\"T_b07e4_row5_col4\" class=\"data row5 col4\" >0.012135</td>\n",
              "      <td id=\"T_b07e4_row5_col5\" class=\"data row5 col5\" >1.000000</td>\n",
              "      <td id=\"T_b07e4_row5_col6\" class=\"data row5 col6\" >0.126721</td>\n",
              "      <td id=\"T_b07e4_row5_col7\" class=\"data row5 col7\" >0.014283</td>\n",
              "    </tr>\n",
              "    <tr>\n",
              "      <th id=\"T_b07e4_level0_row6\" class=\"row_heading level0 row6\" >answered_correctly</th>\n",
              "      <td id=\"T_b07e4_row6_col0\" class=\"data row6 col0\" >0.027571</td>\n",
              "      <td id=\"T_b07e4_row6_col1\" class=\"data row6 col1\" >-0.014776</td>\n",
              "      <td id=\"T_b07e4_row6_col2\" class=\"data row6 col2\" >-0.203327</td>\n",
              "      <td id=\"T_b07e4_row6_col3\" class=\"data row6 col3\" >-0.438788</td>\n",
              "      <td id=\"T_b07e4_row6_col4\" class=\"data row6 col4\" >0.039130</td>\n",
              "      <td id=\"T_b07e4_row6_col5\" class=\"data row6 col5\" >0.126721</td>\n",
              "      <td id=\"T_b07e4_row6_col6\" class=\"data row6 col6\" >1.000000</td>\n",
              "      <td id=\"T_b07e4_row6_col7\" class=\"data row6 col7\" >0.003251</td>\n",
              "    </tr>\n",
              "    <tr>\n",
              "      <th id=\"T_b07e4_level0_row7\" class=\"row_heading level0 row7\" >prior_question_elapsed_time</th>\n",
              "      <td id=\"T_b07e4_row7_col0\" class=\"data row7 col0\" >0.016144</td>\n",
              "      <td id=\"T_b07e4_row7_col1\" class=\"data row7 col1\" >0.016981</td>\n",
              "      <td id=\"T_b07e4_row7_col2\" class=\"data row7 col2\" >0.149778</td>\n",
              "      <td id=\"T_b07e4_row7_col3\" class=\"data row7 col3\" >nan</td>\n",
              "      <td id=\"T_b07e4_row7_col4\" class=\"data row7 col4\" >-0.043670</td>\n",
              "      <td id=\"T_b07e4_row7_col5\" class=\"data row7 col5\" >0.014283</td>\n",
              "      <td id=\"T_b07e4_row7_col6\" class=\"data row7 col6\" >0.003251</td>\n",
              "      <td id=\"T_b07e4_row7_col7\" class=\"data row7 col7\" >1.000000</td>\n",
              "    </tr>\n",
              "  </tbody>\n",
              "</table>\n"
            ],
            "text/plain": [
              "<pandas.io.formats.style.Styler at 0x7f8030612f10>"
            ]
          },
          "execution_count": 122,
          "metadata": {},
          "output_type": "execute_result"
        }
      ],
      "source": [
        "cm = sns.color_palette(\"vlag\", as_cmap = True)\n",
        "dft_corr = dft.loc[:,['timestamp', 'user_id', 'content_id', 'content_type_id', 'task_container_id', 'user_answer', 'answered_correctly', 'prior_question_elapsed_time']]\n",
        "dft_corr.corr().style.background_gradient(cmap = cm, vmin = -1, vmax = 1)"
      ]
    },
    {
      "cell_type": "markdown",
      "metadata": {
        "id": "jg4IdmFhFY68"
      },
      "source": [
        "Добавляем столбец cor_ratio успеваемости (соотношения кол-ва правильных ответов к общему кол-ву ответов студентов)"
      ]
    },
    {
      "cell_type": "code",
      "execution_count": null,
      "metadata": {
        "id": "zpeG7xa1FY68",
        "outputId": "23c0013c-91de-4a89-c928-50024a7243ac"
      },
      "outputs": [
        {
          "data": {
            "text/html": [
              "<style type=\"text/css\">\n",
              "#T_64cbb_row0_col0, #T_64cbb_row1_col1, #T_64cbb_row2_col2, #T_64cbb_row3_col3, #T_64cbb_row4_col4, #T_64cbb_row5_col5, #T_64cbb_row6_col6, #T_64cbb_row7_col7, #T_64cbb_row8_col8 {\n",
              "  background-color: #a9373b;\n",
              "  color: #f1f1f1;\n",
              "}\n",
              "#T_64cbb_row0_col1, #T_64cbb_row0_col5, #T_64cbb_row1_col0, #T_64cbb_row1_col2, #T_64cbb_row1_col5, #T_64cbb_row1_col6, #T_64cbb_row1_col8, #T_64cbb_row2_col1, #T_64cbb_row3_col4, #T_64cbb_row4_col3, #T_64cbb_row5_col0, #T_64cbb_row5_col1, #T_64cbb_row6_col1, #T_64cbb_row7_col8, #T_64cbb_row8_col1, #T_64cbb_row8_col7 {\n",
              "  background-color: #faf5f5;\n",
              "  color: #000000;\n",
              "}\n",
              "#T_64cbb_row0_col2, #T_64cbb_row0_col8, #T_64cbb_row2_col0, #T_64cbb_row8_col0 {\n",
              "  background-color: #faf3f2;\n",
              "  color: #000000;\n",
              "}\n",
              "#T_64cbb_row0_col3, #T_64cbb_row1_col3, #T_64cbb_row3_col0, #T_64cbb_row3_col1, #T_64cbb_row4_col5, #T_64cbb_row5_col4, #T_64cbb_row5_col7, #T_64cbb_row6_col7, #T_64cbb_row7_col5, #T_64cbb_row7_col6 {\n",
              "  background-color: #faf5f4;\n",
              "  color: #000000;\n",
              "}\n",
              "#T_64cbb_row0_col4, #T_64cbb_row4_col0 {\n",
              "  background-color: #deb2b0;\n",
              "  color: #000000;\n",
              "}\n",
              "#T_64cbb_row0_col6, #T_64cbb_row6_col0 {\n",
              "  background-color: #faf3f3;\n",
              "  color: #000000;\n",
              "}\n",
              "#T_64cbb_row0_col7, #T_64cbb_row1_col7, #T_64cbb_row4_col8, #T_64cbb_row7_col0, #T_64cbb_row7_col1, #T_64cbb_row8_col4 {\n",
              "  background-color: #faf4f3;\n",
              "  color: #000000;\n",
              "}\n",
              "#T_64cbb_row1_col4, #T_64cbb_row4_col1 {\n",
              "  background-color: #f2f0f2;\n",
              "  color: #000000;\n",
              "}\n",
              "#T_64cbb_row2_col3, #T_64cbb_row3_col2 {\n",
              "  background-color: #daa8a5;\n",
              "  color: #000000;\n",
              "}\n",
              "#T_64cbb_row2_col4, #T_64cbb_row4_col2 {\n",
              "  background-color: #f9eeed;\n",
              "  color: #000000;\n",
              "}\n",
              "#T_64cbb_row2_col5, #T_64cbb_row5_col2 {\n",
              "  background-color: #ebeaee;\n",
              "  color: #000000;\n",
              "}\n",
              "#T_64cbb_row2_col6, #T_64cbb_row6_col2 {\n",
              "  background-color: #d7dae4;\n",
              "  color: #000000;\n",
              "}\n",
              "#T_64cbb_row2_col7, #T_64cbb_row7_col2 {\n",
              "  background-color: #f1dddb;\n",
              "  color: #000000;\n",
              "}\n",
              "#T_64cbb_row2_col8, #T_64cbb_row8_col2 {\n",
              "  background-color: #f7ebea;\n",
              "  color: #000000;\n",
              "}\n",
              "#T_64cbb_row3_col5, #T_64cbb_row5_col3 {\n",
              "  background-color: #c7cedc;\n",
              "  color: #000000;\n",
              "}\n",
              "#T_64cbb_row3_col6, #T_64cbb_row6_col3 {\n",
              "  background-color: #a7b6ce;\n",
              "  color: #000000;\n",
              "}\n",
              "#T_64cbb_row3_col7, #T_64cbb_row7_col3 {\n",
              "  background-color: #000000;\n",
              "  color: #f1f1f1;\n",
              "}\n",
              "#T_64cbb_row3_col8, #T_64cbb_row8_col3 {\n",
              "  background-color: #e8cac8;\n",
              "  color: #000000;\n",
              "}\n",
              "#T_64cbb_row4_col6, #T_64cbb_row6_col4 {\n",
              "  background-color: #faf2f1;\n",
              "  color: #000000;\n",
              "}\n",
              "#T_64cbb_row4_col7, #T_64cbb_row7_col4 {\n",
              "  background-color: #f7f4f4;\n",
              "  color: #000000;\n",
              "}\n",
              "#T_64cbb_row5_col6, #T_64cbb_row6_col5 {\n",
              "  background-color: #f3e2e0;\n",
              "  color: #000000;\n",
              "}\n",
              "#T_64cbb_row5_col8, #T_64cbb_row8_col5 {\n",
              "  background-color: #95a9c8;\n",
              "  color: #f1f1f1;\n",
              "}\n",
              "#T_64cbb_row6_col8, #T_64cbb_row8_col6 {\n",
              "  background-color: #d1918e;\n",
              "  color: #f1f1f1;\n",
              "}\n",
              "</style>\n",
              "<table id=\"T_64cbb\">\n",
              "  <thead>\n",
              "    <tr>\n",
              "      <th class=\"blank level0\" >&nbsp;</th>\n",
              "      <th id=\"T_64cbb_level0_col0\" class=\"col_heading level0 col0\" >timestamp</th>\n",
              "      <th id=\"T_64cbb_level0_col1\" class=\"col_heading level0 col1\" >user_id</th>\n",
              "      <th id=\"T_64cbb_level0_col2\" class=\"col_heading level0 col2\" >content_id</th>\n",
              "      <th id=\"T_64cbb_level0_col3\" class=\"col_heading level0 col3\" >content_type_id</th>\n",
              "      <th id=\"T_64cbb_level0_col4\" class=\"col_heading level0 col4\" >task_container_id</th>\n",
              "      <th id=\"T_64cbb_level0_col5\" class=\"col_heading level0 col5\" >user_answer</th>\n",
              "      <th id=\"T_64cbb_level0_col6\" class=\"col_heading level0 col6\" >answered_correctly</th>\n",
              "      <th id=\"T_64cbb_level0_col7\" class=\"col_heading level0 col7\" >prior_question_elapsed_time</th>\n",
              "      <th id=\"T_64cbb_level0_col8\" class=\"col_heading level0 col8\" >cor_ratio</th>\n",
              "    </tr>\n",
              "  </thead>\n",
              "  <tbody>\n",
              "    <tr>\n",
              "      <th id=\"T_64cbb_level0_row0\" class=\"row_heading level0 row0\" >timestamp</th>\n",
              "      <td id=\"T_64cbb_row0_col0\" class=\"data row0 col0\" >1.000000</td>\n",
              "      <td id=\"T_64cbb_row0_col1\" class=\"data row0 col1\" >-0.001041</td>\n",
              "      <td id=\"T_64cbb_row0_col2\" class=\"data row0 col2\" >0.032189</td>\n",
              "      <td id=\"T_64cbb_row0_col3\" class=\"data row0 col3\" >0.007441</td>\n",
              "      <td id=\"T_64cbb_row0_col4\" class=\"data row0 col4\" >0.364525</td>\n",
              "      <td id=\"T_64cbb_row0_col5\" class=\"data row0 col5\" >-0.001796</td>\n",
              "      <td id=\"T_64cbb_row0_col6\" class=\"data row0 col6\" >0.027571</td>\n",
              "      <td id=\"T_64cbb_row0_col7\" class=\"data row0 col7\" >0.016144</td>\n",
              "      <td id=\"T_64cbb_row0_col8\" class=\"data row0 col8\" >0.032882</td>\n",
              "    </tr>\n",
              "    <tr>\n",
              "      <th id=\"T_64cbb_level0_row1\" class=\"row_heading level0 row1\" >user_id</th>\n",
              "      <td id=\"T_64cbb_row1_col0\" class=\"data row1 col0\" >-0.001041</td>\n",
              "      <td id=\"T_64cbb_row1_col1\" class=\"data row1 col1\" >1.000000</td>\n",
              "      <td id=\"T_64cbb_row1_col2\" class=\"data row1 col2\" >-0.007103</td>\n",
              "      <td id=\"T_64cbb_row1_col3\" class=\"data row1 col3\" >0.004102</td>\n",
              "      <td id=\"T_64cbb_row1_col4\" class=\"data row1 col4\" >-0.072862</td>\n",
              "      <td id=\"T_64cbb_row1_col5\" class=\"data row1 col5\" >-0.002361</td>\n",
              "      <td id=\"T_64cbb_row1_col6\" class=\"data row1 col6\" >-0.014776</td>\n",
              "      <td id=\"T_64cbb_row1_col7\" class=\"data row1 col7\" >0.016981</td>\n",
              "      <td id=\"T_64cbb_row1_col8\" class=\"data row1 col8\" >-0.008364</td>\n",
              "    </tr>\n",
              "    <tr>\n",
              "      <th id=\"T_64cbb_level0_row2\" class=\"row_heading level0 row2\" >content_id</th>\n",
              "      <td id=\"T_64cbb_row2_col0\" class=\"data row2 col0\" >0.032189</td>\n",
              "      <td id=\"T_64cbb_row2_col1\" class=\"data row2 col1\" >-0.007103</td>\n",
              "      <td id=\"T_64cbb_row2_col2\" class=\"data row2 col2\" >1.000000</td>\n",
              "      <td id=\"T_64cbb_row2_col3\" class=\"data row2 col3\" >0.420121</td>\n",
              "      <td id=\"T_64cbb_row2_col4\" class=\"data row2 col4\" >0.062908</td>\n",
              "      <td id=\"T_64cbb_row2_col5\" class=\"data row2 col5\" >-0.110374</td>\n",
              "      <td id=\"T_64cbb_row2_col6\" class=\"data row2 col6\" >-0.203327</td>\n",
              "      <td id=\"T_64cbb_row2_col7\" class=\"data row2 col7\" >0.149778</td>\n",
              "      <td id=\"T_64cbb_row2_col8\" class=\"data row2 col8\" >0.080741</td>\n",
              "    </tr>\n",
              "    <tr>\n",
              "      <th id=\"T_64cbb_level0_row3\" class=\"row_heading level0 row3\" >content_type_id</th>\n",
              "      <td id=\"T_64cbb_row3_col0\" class=\"data row3 col0\" >0.007441</td>\n",
              "      <td id=\"T_64cbb_row3_col1\" class=\"data row3 col1\" >0.004102</td>\n",
              "      <td id=\"T_64cbb_row3_col2\" class=\"data row3 col2\" >0.420121</td>\n",
              "      <td id=\"T_64cbb_row3_col3\" class=\"data row3 col3\" >1.000000</td>\n",
              "      <td id=\"T_64cbb_row3_col4\" class=\"data row3 col4\" >-0.013024</td>\n",
              "      <td id=\"T_64cbb_row3_col5\" class=\"data row3 col5\" >-0.283418</td>\n",
              "      <td id=\"T_64cbb_row3_col6\" class=\"data row3 col6\" >-0.438788</td>\n",
              "      <td id=\"T_64cbb_row3_col7\" class=\"data row3 col7\" >nan</td>\n",
              "      <td id=\"T_64cbb_row3_col8\" class=\"data row3 col8\" >0.249123</td>\n",
              "    </tr>\n",
              "    <tr>\n",
              "      <th id=\"T_64cbb_level0_row4\" class=\"row_heading level0 row4\" >task_container_id</th>\n",
              "      <td id=\"T_64cbb_row4_col0\" class=\"data row4 col0\" >0.364525</td>\n",
              "      <td id=\"T_64cbb_row4_col1\" class=\"data row4 col1\" >-0.072862</td>\n",
              "      <td id=\"T_64cbb_row4_col2\" class=\"data row4 col2\" >0.062908</td>\n",
              "      <td id=\"T_64cbb_row4_col3\" class=\"data row4 col3\" >-0.013024</td>\n",
              "      <td id=\"T_64cbb_row4_col4\" class=\"data row4 col4\" >1.000000</td>\n",
              "      <td id=\"T_64cbb_row4_col5\" class=\"data row4 col5\" >0.012135</td>\n",
              "      <td id=\"T_64cbb_row4_col6\" class=\"data row4 col6\" >0.039130</td>\n",
              "      <td id=\"T_64cbb_row4_col7\" class=\"data row4 col7\" >-0.043670</td>\n",
              "      <td id=\"T_64cbb_row4_col8\" class=\"data row4 col8\" >0.023179</td>\n",
              "    </tr>\n",
              "    <tr>\n",
              "      <th id=\"T_64cbb_level0_row5\" class=\"row_heading level0 row5\" >user_answer</th>\n",
              "      <td id=\"T_64cbb_row5_col0\" class=\"data row5 col0\" >-0.001796</td>\n",
              "      <td id=\"T_64cbb_row5_col1\" class=\"data row5 col1\" >-0.002361</td>\n",
              "      <td id=\"T_64cbb_row5_col2\" class=\"data row5 col2\" >-0.110374</td>\n",
              "      <td id=\"T_64cbb_row5_col3\" class=\"data row5 col3\" >-0.283418</td>\n",
              "      <td id=\"T_64cbb_row5_col4\" class=\"data row5 col4\" >0.012135</td>\n",
              "      <td id=\"T_64cbb_row5_col5\" class=\"data row5 col5\" >1.000000</td>\n",
              "      <td id=\"T_64cbb_row5_col6\" class=\"data row5 col6\" >0.126721</td>\n",
              "      <td id=\"T_64cbb_row5_col7\" class=\"data row5 col7\" >0.014283</td>\n",
              "      <td id=\"T_64cbb_row5_col8\" class=\"data row5 col8\" >-0.527333</td>\n",
              "    </tr>\n",
              "    <tr>\n",
              "      <th id=\"T_64cbb_level0_row6\" class=\"row_heading level0 row6\" >answered_correctly</th>\n",
              "      <td id=\"T_64cbb_row6_col0\" class=\"data row6 col0\" >0.027571</td>\n",
              "      <td id=\"T_64cbb_row6_col1\" class=\"data row6 col1\" >-0.014776</td>\n",
              "      <td id=\"T_64cbb_row6_col2\" class=\"data row6 col2\" >-0.203327</td>\n",
              "      <td id=\"T_64cbb_row6_col3\" class=\"data row6 col3\" >-0.438788</td>\n",
              "      <td id=\"T_64cbb_row6_col4\" class=\"data row6 col4\" >0.039130</td>\n",
              "      <td id=\"T_64cbb_row6_col5\" class=\"data row6 col5\" >0.126721</td>\n",
              "      <td id=\"T_64cbb_row6_col6\" class=\"data row6 col6\" >1.000000</td>\n",
              "      <td id=\"T_64cbb_row6_col7\" class=\"data row6 col7\" >0.003251</td>\n",
              "      <td id=\"T_64cbb_row6_col8\" class=\"data row6 col8\" >0.531547</td>\n",
              "    </tr>\n",
              "    <tr>\n",
              "      <th id=\"T_64cbb_level0_row7\" class=\"row_heading level0 row7\" >prior_question_elapsed_time</th>\n",
              "      <td id=\"T_64cbb_row7_col0\" class=\"data row7 col0\" >0.016144</td>\n",
              "      <td id=\"T_64cbb_row7_col1\" class=\"data row7 col1\" >0.016981</td>\n",
              "      <td id=\"T_64cbb_row7_col2\" class=\"data row7 col2\" >0.149778</td>\n",
              "      <td id=\"T_64cbb_row7_col3\" class=\"data row7 col3\" >nan</td>\n",
              "      <td id=\"T_64cbb_row7_col4\" class=\"data row7 col4\" >-0.043670</td>\n",
              "      <td id=\"T_64cbb_row7_col5\" class=\"data row7 col5\" >0.014283</td>\n",
              "      <td id=\"T_64cbb_row7_col6\" class=\"data row7 col6\" >0.003251</td>\n",
              "      <td id=\"T_64cbb_row7_col7\" class=\"data row7 col7\" >1.000000</td>\n",
              "      <td id=\"T_64cbb_row7_col8\" class=\"data row7 col8\" >-0.006744</td>\n",
              "    </tr>\n",
              "    <tr>\n",
              "      <th id=\"T_64cbb_level0_row8\" class=\"row_heading level0 row8\" >cor_ratio</th>\n",
              "      <td id=\"T_64cbb_row8_col0\" class=\"data row8 col0\" >0.032882</td>\n",
              "      <td id=\"T_64cbb_row8_col1\" class=\"data row8 col1\" >-0.008364</td>\n",
              "      <td id=\"T_64cbb_row8_col2\" class=\"data row8 col2\" >0.080741</td>\n",
              "      <td id=\"T_64cbb_row8_col3\" class=\"data row8 col3\" >0.249123</td>\n",
              "      <td id=\"T_64cbb_row8_col4\" class=\"data row8 col4\" >0.023179</td>\n",
              "      <td id=\"T_64cbb_row8_col5\" class=\"data row8 col5\" >-0.527333</td>\n",
              "      <td id=\"T_64cbb_row8_col6\" class=\"data row8 col6\" >0.531547</td>\n",
              "      <td id=\"T_64cbb_row8_col7\" class=\"data row8 col7\" >-0.006744</td>\n",
              "      <td id=\"T_64cbb_row8_col8\" class=\"data row8 col8\" >1.000000</td>\n",
              "    </tr>\n",
              "  </tbody>\n",
              "</table>\n"
            ],
            "text/plain": [
              "<pandas.io.formats.style.Styler at 0x7f8020cf33a0>"
            ]
          },
          "execution_count": 123,
          "metadata": {},
          "output_type": "execute_result"
        }
      ],
      "source": [
        "dft_corr['cor_ratio'] = dft_corr.answered_correctly / dft_corr.user_answer\n",
        "dft_corr.corr().style.background_gradient(cmap = cm, vmin = -1, vmax = 1)"
      ]
    },
    {
      "cell_type": "markdown",
      "metadata": {
        "id": "ZaGIFpAhFY68"
      },
      "source": [
        "Удаляем ненужные столбцы не связанные со столбцом успеваемости"
      ]
    },
    {
      "cell_type": "code",
      "execution_count": null,
      "metadata": {
        "id": "v_z2v14fFY69",
        "outputId": "6667d70b-7e53-4b4e-deaf-1b54d0660e92"
      },
      "outputs": [
        {
          "data": {
            "text/html": [
              "<style type=\"text/css\">\n",
              "#T_84d54_row0_col0, #T_84d54_row1_col1, #T_84d54_row2_col2, #T_84d54_row3_col3 {\n",
              "  background-color: #a9373b;\n",
              "  color: #f1f1f1;\n",
              "}\n",
              "#T_84d54_row0_col1, #T_84d54_row1_col0 {\n",
              "  background-color: #c7cedc;\n",
              "  color: #000000;\n",
              "}\n",
              "#T_84d54_row0_col2, #T_84d54_row2_col0 {\n",
              "  background-color: #a7b6ce;\n",
              "  color: #000000;\n",
              "}\n",
              "#T_84d54_row0_col3, #T_84d54_row3_col0 {\n",
              "  background-color: #e8cac8;\n",
              "  color: #000000;\n",
              "}\n",
              "#T_84d54_row1_col2, #T_84d54_row2_col1 {\n",
              "  background-color: #f3e2e0;\n",
              "  color: #000000;\n",
              "}\n",
              "#T_84d54_row1_col3, #T_84d54_row3_col1 {\n",
              "  background-color: #95a9c8;\n",
              "  color: #f1f1f1;\n",
              "}\n",
              "#T_84d54_row2_col3, #T_84d54_row3_col2 {\n",
              "  background-color: #d1918e;\n",
              "  color: #f1f1f1;\n",
              "}\n",
              "</style>\n",
              "<table id=\"T_84d54\">\n",
              "  <thead>\n",
              "    <tr>\n",
              "      <th class=\"blank level0\" >&nbsp;</th>\n",
              "      <th id=\"T_84d54_level0_col0\" class=\"col_heading level0 col0\" >content_type_id</th>\n",
              "      <th id=\"T_84d54_level0_col1\" class=\"col_heading level0 col1\" >user_answer</th>\n",
              "      <th id=\"T_84d54_level0_col2\" class=\"col_heading level0 col2\" >answered_correctly</th>\n",
              "      <th id=\"T_84d54_level0_col3\" class=\"col_heading level0 col3\" >cor_ratio</th>\n",
              "    </tr>\n",
              "  </thead>\n",
              "  <tbody>\n",
              "    <tr>\n",
              "      <th id=\"T_84d54_level0_row0\" class=\"row_heading level0 row0\" >content_type_id</th>\n",
              "      <td id=\"T_84d54_row0_col0\" class=\"data row0 col0\" >1.000000</td>\n",
              "      <td id=\"T_84d54_row0_col1\" class=\"data row0 col1\" >-0.283418</td>\n",
              "      <td id=\"T_84d54_row0_col2\" class=\"data row0 col2\" >-0.438788</td>\n",
              "      <td id=\"T_84d54_row0_col3\" class=\"data row0 col3\" >0.249123</td>\n",
              "    </tr>\n",
              "    <tr>\n",
              "      <th id=\"T_84d54_level0_row1\" class=\"row_heading level0 row1\" >user_answer</th>\n",
              "      <td id=\"T_84d54_row1_col0\" class=\"data row1 col0\" >-0.283418</td>\n",
              "      <td id=\"T_84d54_row1_col1\" class=\"data row1 col1\" >1.000000</td>\n",
              "      <td id=\"T_84d54_row1_col2\" class=\"data row1 col2\" >0.126721</td>\n",
              "      <td id=\"T_84d54_row1_col3\" class=\"data row1 col3\" >-0.527333</td>\n",
              "    </tr>\n",
              "    <tr>\n",
              "      <th id=\"T_84d54_level0_row2\" class=\"row_heading level0 row2\" >answered_correctly</th>\n",
              "      <td id=\"T_84d54_row2_col0\" class=\"data row2 col0\" >-0.438788</td>\n",
              "      <td id=\"T_84d54_row2_col1\" class=\"data row2 col1\" >0.126721</td>\n",
              "      <td id=\"T_84d54_row2_col2\" class=\"data row2 col2\" >1.000000</td>\n",
              "      <td id=\"T_84d54_row2_col3\" class=\"data row2 col3\" >0.531547</td>\n",
              "    </tr>\n",
              "    <tr>\n",
              "      <th id=\"T_84d54_level0_row3\" class=\"row_heading level0 row3\" >cor_ratio</th>\n",
              "      <td id=\"T_84d54_row3_col0\" class=\"data row3 col0\" >0.249123</td>\n",
              "      <td id=\"T_84d54_row3_col1\" class=\"data row3 col1\" >-0.527333</td>\n",
              "      <td id=\"T_84d54_row3_col2\" class=\"data row3 col2\" >0.531547</td>\n",
              "      <td id=\"T_84d54_row3_col3\" class=\"data row3 col3\" >1.000000</td>\n",
              "    </tr>\n",
              "  </tbody>\n",
              "</table>\n"
            ],
            "text/plain": [
              "<pandas.io.formats.style.Styler at 0x7f7f22f3dbb0>"
            ]
          },
          "execution_count": 124,
          "metadata": {},
          "output_type": "execute_result"
        }
      ],
      "source": [
        "dft_corr.drop(dft_corr.columns[[0, 1, 2, 4, 7]], axis = 1, inplace = True)\n",
        "dft_corr.corr().style.background_gradient(cmap = cm, vmin = -1, vmax = 1)"
      ]
    },
    {
      "cell_type": "markdown",
      "metadata": {
        "id": "wBLfQMIuFY69"
      },
      "source": [
        "Выводим распеределение успеваваемости студентов"
      ]
    },
    {
      "cell_type": "code",
      "execution_count": null,
      "metadata": {
        "id": "Q7cSIoU4FY69",
        "outputId": "d922882c-45f6-4e68-d3f5-ba9818ca1f05"
      },
      "outputs": [
        {
          "data": {
            "text/plain": [
              "<AxesSubplot:xlabel='cor_ratio', ylabel='Count'>"
            ]
          },
          "execution_count": 125,
          "metadata": {},
          "output_type": "execute_result"
        },
        {
          "data": {
            "image/png": "[encoded data removed]",
            "text/plain": [
              "<Figure size 432x288 with 1 Axes>"
            ]
          },
          "metadata": {
            "needs_background": "light"
          },
          "output_type": "display_data"
        }
      ],
      "source": [
        "sns.histplot(data = dft_corr, x = 'cor_ratio', hue = 'content_type_id', bins = 8)"
      ]
    },
    {
      "cell_type": "markdown",
      "metadata": {
        "id": "Aj7onjtqFY69"
      },
      "source": [
        "По представленной корреляции числовых признаков видно, что помимо исходных для неё признаков успеваемость слабо зависит от типа контента (вопрос или лекция)."
      ]
    },
    {
      "cell_type": "markdown",
      "metadata": {
        "id": "dwtOFDdBFY69"
      },
      "source": [
        "## Рассмотрим статистику ответов студентов"
      ]
    },
    {
      "cell_type": "markdown",
      "metadata": {
        "id": "8x7hPnTKFY69"
      },
      "source": [
        "Ищем кол-во уникальных идентификаторов студента"
      ]
    },
    {
      "cell_type": "code",
      "execution_count": null,
      "metadata": {
        "id": "wGU_QSisFY69",
        "outputId": "633850f0-5ee8-4898-f7e0-b5ad48dd4c25"
      },
      "outputs": [
        {
          "data": {
            "text/plain": [
              "user_id    3824\n",
              "dtype: int64"
            ]
          },
          "execution_count": 126,
          "metadata": {},
          "output_type": "execute_result"
        }
      ],
      "source": [
        "dft.agg({'user_id': pd.Series.nunique}) "
      ]
    },
    {
      "cell_type": "markdown",
      "metadata": {
        "id": "9MSIIXK0FY6-"
      },
      "source": [
        "Группируем общее кол-во ответов и кол-во правильных ответов каждого студента по его идентификатору в датафрейм us_a"
      ]
    },
    {
      "cell_type": "code",
      "execution_count": null,
      "metadata": {
        "id": "BeMMPsboFY6-",
        "outputId": "d937ccb0-0e7d-4f35-f90c-70462603873f"
      },
      "outputs": [
        {
          "data": {
            "text/html": [
              "<div>\n",
              "<style scoped>\n",
              "    .dataframe tbody tr th:only-of-type {\n",
              "        vertical-align: middle;\n",
              "    }\n",
              "\n",
              "    .dataframe tbody tr th {\n",
              "        vertical-align: top;\n",
              "    }\n",
              "\n",
              "    .dataframe thead th {\n",
              "        text-align: right;\n",
              "    }\n",
              "</style>\n",
              "<table border=\"1\" class=\"dataframe\">\n",
              "  <thead>\n",
              "    <tr style=\"text-align: right;\">\n",
              "      <th></th>\n",
              "      <th>user_id</th>\n",
              "      <th>user_answer</th>\n",
              "      <th>answered_correctly</th>\n",
              "    </tr>\n",
              "  </thead>\n",
              "  <tbody>\n",
              "    <tr>\n",
              "      <th>0</th>\n",
              "      <td>115</td>\n",
              "      <td>72</td>\n",
              "      <td>32</td>\n",
              "    </tr>\n",
              "    <tr>\n",
              "      <th>1</th>\n",
              "      <td>124</td>\n",
              "      <td>49</td>\n",
              "      <td>7</td>\n",
              "    </tr>\n",
              "    <tr>\n",
              "      <th>2</th>\n",
              "      <td>2746</td>\n",
              "      <td>31</td>\n",
              "      <td>10</td>\n",
              "    </tr>\n",
              "    <tr>\n",
              "      <th>3</th>\n",
              "      <td>5382</td>\n",
              "      <td>169</td>\n",
              "      <td>81</td>\n",
              "    </tr>\n",
              "    <tr>\n",
              "      <th>4</th>\n",
              "      <td>8623</td>\n",
              "      <td>149</td>\n",
              "      <td>67</td>\n",
              "    </tr>\n",
              "  </tbody>\n",
              "</table>\n",
              "</div>"
            ],
            "text/plain": [
              "   user_id  user_answer  answered_correctly\n",
              "0      115           72                  32\n",
              "1      124           49                   7\n",
              "2     2746           31                  10\n",
              "3     5382          169                  81\n",
              "4     8623          149                  67"
            ]
          },
          "execution_count": 127,
          "metadata": {},
          "output_type": "execute_result"
        }
      ],
      "source": [
        "us_a = dft[['user_id', 'user_answer', 'answered_correctly']].groupby(['user_id'], as_index = False).sum()\n",
        "us_a.head()"
      ]
    },
    {
      "cell_type": "markdown",
      "metadata": {
        "id": "LYyGSoyVFY6-"
      },
      "source": [
        "Статистика ответов студентов"
      ]
    },
    {
      "cell_type": "code",
      "execution_count": null,
      "metadata": {
        "id": "5gvsh9kqFY6-",
        "outputId": "9bac6332-f020-4fa9-f963-342e21a26029"
      },
      "outputs": [
        {
          "data": {
            "text/html": [
              "<div>\n",
              "<style scoped>\n",
              "    .dataframe tbody tr th:only-of-type {\n",
              "        vertical-align: middle;\n",
              "    }\n",
              "\n",
              "    .dataframe tbody tr th {\n",
              "        vertical-align: top;\n",
              "    }\n",
              "\n",
              "    .dataframe thead th {\n",
              "        text-align: right;\n",
              "    }\n",
              "</style>\n",
              "<table border=\"1\" class=\"dataframe\">\n",
              "  <thead>\n",
              "    <tr style=\"text-align: right;\">\n",
              "      <th></th>\n",
              "      <th>user_id</th>\n",
              "      <th>user_answer</th>\n",
              "      <th>answered_correctly</th>\n",
              "    </tr>\n",
              "  </thead>\n",
              "  <tbody>\n",
              "    <tr>\n",
              "      <th>count</th>\n",
              "      <td>3.824000e+03</td>\n",
              "      <td>3824.000000</td>\n",
              "      <td>3824.000000</td>\n",
              "    </tr>\n",
              "    <tr>\n",
              "      <th>mean</th>\n",
              "      <td>1.050633e+07</td>\n",
              "      <td>359.514644</td>\n",
              "      <td>161.481172</td>\n",
              "    </tr>\n",
              "    <tr>\n",
              "      <th>std</th>\n",
              "      <td>5.958653e+06</td>\n",
              "      <td>984.492304</td>\n",
              "      <td>457.802761</td>\n",
              "    </tr>\n",
              "    <tr>\n",
              "      <th>min</th>\n",
              "      <td>1.150000e+02</td>\n",
              "      <td>1.000000</td>\n",
              "      <td>-2.000000</td>\n",
              "    </tr>\n",
              "    <tr>\n",
              "      <th>25%</th>\n",
              "      <td>5.363199e+06</td>\n",
              "      <td>38.000000</td>\n",
              "      <td>11.000000</td>\n",
              "    </tr>\n",
              "    <tr>\n",
              "      <th>50%</th>\n",
              "      <td>1.061051e+07</td>\n",
              "      <td>60.000000</td>\n",
              "      <td>23.000000</td>\n",
              "    </tr>\n",
              "    <tr>\n",
              "      <th>75%</th>\n",
              "      <td>1.565077e+07</td>\n",
              "      <td>219.000000</td>\n",
              "      <td>94.000000</td>\n",
              "    </tr>\n",
              "    <tr>\n",
              "      <th>max</th>\n",
              "      <td>2.094902e+07</td>\n",
              "      <td>16907.000000</td>\n",
              "      <td>6103.000000</td>\n",
              "    </tr>\n",
              "  </tbody>\n",
              "</table>\n",
              "</div>"
            ],
            "text/plain": [
              "            user_id   user_answer  answered_correctly\n",
              "count  3.824000e+03   3824.000000         3824.000000\n",
              "mean   1.050633e+07    359.514644          161.481172\n",
              "std    5.958653e+06    984.492304          457.802761\n",
              "min    1.150000e+02      1.000000           -2.000000\n",
              "25%    5.363199e+06     38.000000           11.000000\n",
              "50%    1.061051e+07     60.000000           23.000000\n",
              "75%    1.565077e+07    219.000000           94.000000\n",
              "max    2.094902e+07  16907.000000         6103.000000"
            ]
          },
          "execution_count": 128,
          "metadata": {},
          "output_type": "execute_result"
        }
      ],
      "source": [
        "us_a.describe() "
      ]
    },
    {
      "cell_type": "code",
      "execution_count": null,
      "metadata": {
        "id": "N22MogHaFY6-",
        "outputId": "7d36c82b-db15-4cb2-8080-66ac3446d091"
      },
      "outputs": [
        {
          "data": {
            "text/html": [
              "<div>\n",
              "<style scoped>\n",
              "    .dataframe tbody tr th:only-of-type {\n",
              "        vertical-align: middle;\n",
              "    }\n",
              "\n",
              "    .dataframe tbody tr th {\n",
              "        vertical-align: top;\n",
              "    }\n",
              "\n",
              "    .dataframe thead th {\n",
              "        text-align: right;\n",
              "    }\n",
              "</style>\n",
              "<table border=\"1\" class=\"dataframe\">\n",
              "  <thead>\n",
              "    <tr style=\"text-align: right;\">\n",
              "      <th></th>\n",
              "      <th>user_id</th>\n",
              "      <th>user_answer</th>\n",
              "      <th>answered_correctly</th>\n",
              "      <th>cor_ratio</th>\n",
              "    </tr>\n",
              "  </thead>\n",
              "  <tbody>\n",
              "    <tr>\n",
              "      <th>0</th>\n",
              "      <td>115</td>\n",
              "      <td>72</td>\n",
              "      <td>32</td>\n",
              "      <td>0.444444</td>\n",
              "    </tr>\n",
              "    <tr>\n",
              "      <th>1</th>\n",
              "      <td>124</td>\n",
              "      <td>49</td>\n",
              "      <td>7</td>\n",
              "      <td>0.142857</td>\n",
              "    </tr>\n",
              "    <tr>\n",
              "      <th>2</th>\n",
              "      <td>2746</td>\n",
              "      <td>31</td>\n",
              "      <td>10</td>\n",
              "      <td>0.322581</td>\n",
              "    </tr>\n",
              "    <tr>\n",
              "      <th>3</th>\n",
              "      <td>5382</td>\n",
              "      <td>169</td>\n",
              "      <td>81</td>\n",
              "      <td>0.479290</td>\n",
              "    </tr>\n",
              "    <tr>\n",
              "      <th>4</th>\n",
              "      <td>8623</td>\n",
              "      <td>149</td>\n",
              "      <td>67</td>\n",
              "      <td>0.449664</td>\n",
              "    </tr>\n",
              "    <tr>\n",
              "      <th>...</th>\n",
              "      <td>...</td>\n",
              "      <td>...</td>\n",
              "      <td>...</td>\n",
              "      <td>...</td>\n",
              "    </tr>\n",
              "    <tr>\n",
              "      <th>3819</th>\n",
              "      <td>20913319</td>\n",
              "      <td>575</td>\n",
              "      <td>233</td>\n",
              "      <td>0.405217</td>\n",
              "    </tr>\n",
              "    <tr>\n",
              "      <th>3820</th>\n",
              "      <td>20913864</td>\n",
              "      <td>20</td>\n",
              "      <td>7</td>\n",
              "      <td>0.350000</td>\n",
              "    </tr>\n",
              "    <tr>\n",
              "      <th>3821</th>\n",
              "      <td>20938253</td>\n",
              "      <td>739</td>\n",
              "      <td>308</td>\n",
              "      <td>0.416779</td>\n",
              "    </tr>\n",
              "    <tr>\n",
              "      <th>3822</th>\n",
              "      <td>20948951</td>\n",
              "      <td>78</td>\n",
              "      <td>31</td>\n",
              "      <td>0.397436</td>\n",
              "    </tr>\n",
              "    <tr>\n",
              "      <th>3823</th>\n",
              "      <td>20949024</td>\n",
              "      <td>71</td>\n",
              "      <td>15</td>\n",
              "      <td>0.211268</td>\n",
              "    </tr>\n",
              "  </tbody>\n",
              "</table>\n",
              "<p>3585 rows × 4 columns</p>\n",
              "</div>"
            ],
            "text/plain": [
              "       user_id  user_answer  answered_correctly  cor_ratio\n",
              "0          115           72                  32   0.444444\n",
              "1          124           49                   7   0.142857\n",
              "2         2746           31                  10   0.322581\n",
              "3         5382          169                  81   0.479290\n",
              "4         8623          149                  67   0.449664\n",
              "...        ...          ...                 ...        ...\n",
              "3819  20913319          575                 233   0.405217\n",
              "3820  20913864           20                   7   0.350000\n",
              "3821  20938253          739                 308   0.416779\n",
              "3822  20948951           78                  31   0.397436\n",
              "3823  20949024           71                  15   0.211268\n",
              "\n",
              "[3585 rows x 4 columns]"
            ]
          },
          "execution_count": 129,
          "metadata": {},
          "output_type": "execute_result"
        }
      ],
      "source": [
        "# Сокращаем разброс количества ответов студентов\n",
        "def rem_emission(df, col, k_std): # задаём функцию сокращения разброса ответов\n",
        "        mean = df[col].mean() # среднее значение переданного столбца col\n",
        "        std_o = df[col].std() # стандартное отклонение переданного столбца col\n",
        "        return df[(df[col] <= mean + (k_std * std_o))]\n",
        "\n",
        "us_a = rem_emission(us_a, 'user_answer', 1) # вызываем функцию сокращения разброса ответов\n",
        "# Добавляем столбец cor_ratio успеваемости (соотношения кол-ва правильных ответов к общему кол-ву ответов студентов)\n",
        "us_a['cor_ratio'] = us_a.answered_correctly / us_a.user_answer\n",
        "us_a # выводим первые 5 и последние 5 строк полученного датафрейма us_a"
      ]
    },
    {
      "cell_type": "markdown",
      "metadata": {
        "id": "NgyVXqG6FY6-"
      },
      "source": [
        "Выводим статистику ответов студентов с новым столбцом"
      ]
    },
    {
      "cell_type": "code",
      "execution_count": null,
      "metadata": {
        "id": "Fhk_F4KFFY6_",
        "outputId": "25d841ff-36a5-4f2c-804e-9ad9423d8a1a"
      },
      "outputs": [
        {
          "data": {
            "text/html": [
              "<div>\n",
              "<style scoped>\n",
              "    .dataframe tbody tr th:only-of-type {\n",
              "        vertical-align: middle;\n",
              "    }\n",
              "\n",
              "    .dataframe tbody tr th {\n",
              "        vertical-align: top;\n",
              "    }\n",
              "\n",
              "    .dataframe thead th {\n",
              "        text-align: right;\n",
              "    }\n",
              "</style>\n",
              "<table border=\"1\" class=\"dataframe\">\n",
              "  <thead>\n",
              "    <tr style=\"text-align: right;\">\n",
              "      <th></th>\n",
              "      <th>user_id</th>\n",
              "      <th>user_answer</th>\n",
              "      <th>answered_correctly</th>\n",
              "      <th>cor_ratio</th>\n",
              "    </tr>\n",
              "  </thead>\n",
              "  <tbody>\n",
              "    <tr>\n",
              "      <th>count</th>\n",
              "      <td>3.585000e+03</td>\n",
              "      <td>3585.000000</td>\n",
              "      <td>3585.000000</td>\n",
              "      <td>3585.000000</td>\n",
              "    </tr>\n",
              "    <tr>\n",
              "      <th>mean</th>\n",
              "      <td>1.052197e+07</td>\n",
              "      <td>159.402789</td>\n",
              "      <td>68.483682</td>\n",
              "      <td>0.383755</td>\n",
              "    </tr>\n",
              "    <tr>\n",
              "      <th>std</th>\n",
              "      <td>5.961041e+06</td>\n",
              "      <td>238.836485</td>\n",
              "      <td>111.890436</td>\n",
              "      <td>0.131749</td>\n",
              "    </tr>\n",
              "    <tr>\n",
              "      <th>min</th>\n",
              "      <td>1.150000e+02</td>\n",
              "      <td>1.000000</td>\n",
              "      <td>-2.000000</td>\n",
              "      <td>-0.017241</td>\n",
              "    </tr>\n",
              "    <tr>\n",
              "      <th>25%</th>\n",
              "      <td>5.386918e+06</td>\n",
              "      <td>36.000000</td>\n",
              "      <td>11.000000</td>\n",
              "      <td>0.293103</td>\n",
              "    </tr>\n",
              "    <tr>\n",
              "      <th>50%</th>\n",
              "      <td>1.062930e+07</td>\n",
              "      <td>55.000000</td>\n",
              "      <td>21.000000</td>\n",
              "      <td>0.392857</td>\n",
              "    </tr>\n",
              "    <tr>\n",
              "      <th>75%</th>\n",
              "      <td>1.568217e+07</td>\n",
              "      <td>151.000000</td>\n",
              "      <td>66.000000</td>\n",
              "      <td>0.472603</td>\n",
              "    </tr>\n",
              "    <tr>\n",
              "      <th>max</th>\n",
              "      <td>2.094902e+07</td>\n",
              "      <td>1335.000000</td>\n",
              "      <td>759.000000</td>\n",
              "      <td>1.500000</td>\n",
              "    </tr>\n",
              "  </tbody>\n",
              "</table>\n",
              "</div>"
            ],
            "text/plain": [
              "            user_id  user_answer  answered_correctly    cor_ratio\n",
              "count  3.585000e+03  3585.000000         3585.000000  3585.000000\n",
              "mean   1.052197e+07   159.402789           68.483682     0.383755\n",
              "std    5.961041e+06   238.836485          111.890436     0.131749\n",
              "min    1.150000e+02     1.000000           -2.000000    -0.017241\n",
              "25%    5.386918e+06    36.000000           11.000000     0.293103\n",
              "50%    1.062930e+07    55.000000           21.000000     0.392857\n",
              "75%    1.568217e+07   151.000000           66.000000     0.472603\n",
              "max    2.094902e+07  1335.000000          759.000000     1.500000"
            ]
          },
          "execution_count": 130,
          "metadata": {},
          "output_type": "execute_result"
        }
      ],
      "source": [
        "us_a.describe() "
      ]
    },
    {
      "cell_type": "code",
      "execution_count": null,
      "metadata": {
        "id": "_-TDYtizFY6_",
        "outputId": "d476997e-53fd-44e2-d111-6da86f8632ac"
      },
      "outputs": [
        {
          "name": "stdout",
          "output_type": "stream",
          "text": [
            "Медианное значение количества ответов студентов:  55.0\n"
          ]
        }
      ],
      "source": [
        "a_per_user_med = us_a.user_answer.median()\n",
        "print('Медианное значение количества ответов студентов: ', a_per_user_med)"
      ]
    },
    {
      "cell_type": "markdown",
      "metadata": {
        "id": "ihNMN6qfFY6_"
      },
      "source": [
        "Выводим распределение кол-ва ответов студентов: заметен перекос в начале"
      ]
    },
    {
      "cell_type": "code",
      "execution_count": null,
      "metadata": {
        "id": "9iJHGGlVFY6_",
        "outputId": "ce51a667-f85f-42bb-8032-c679ba4a2e5f"
      },
      "outputs": [
        {
          "data": {
            "text/plain": [
              "<AxesSubplot:xlabel='user_answer', ylabel='Count'>"
            ]
          },
          "execution_count": 132,
          "metadata": {},
          "output_type": "execute_result"
        },
        {
          "data": {
            "image/png": "[encoded data removed]",
            "text/plain": [
              "<Figure size 432x288 with 1 Axes>"
            ]
          },
          "metadata": {
            "needs_background": "light"
          },
          "output_type": "display_data"
        }
      ],
      "source": [
        "sns.histplot(data = us_a, x = 'user_answer')"
      ]
    },
    {
      "cell_type": "markdown",
      "metadata": {
        "id": "P5LqCjDRFY6_"
      },
      "source": [
        "Нормализуем кол-во ответов студентов"
      ]
    },
    {
      "cell_type": "code",
      "execution_count": null,
      "metadata": {
        "id": "Enr10krdFY6_",
        "outputId": "588cec0e-51c2-471f-a0c3-7cf1e90ec24d"
      },
      "outputs": [
        {
          "data": {
            "text/plain": [
              "<AxesSubplot:xlabel='user_answer', ylabel='Count'>"
            ]
          },
          "execution_count": 133,
          "metadata": {},
          "output_type": "execute_result"
        },
        {
          "data": {
            "image/png": "[encoded data removed]",
            "text/plain": [
              "<Figure size 432x288 with 1 Axes>"
            ]
          },
          "metadata": {
            "needs_background": "light"
          },
          "output_type": "display_data"
        }
      ],
      "source": [
        "sns.histplot(data = us_a, x = 'user_answer', log_scale = True, color = 'blue') "
      ]
    },
    {
      "cell_type": "markdown",
      "metadata": {
        "id": "idTO5laoFY6_"
      },
      "source": [
        "Выводим распределение кол-ва ответов студентов, которое больше медианного"
      ]
    },
    {
      "cell_type": "code",
      "execution_count": null,
      "metadata": {
        "id": "WdEQ3n2pFY6_",
        "outputId": "cdac3950-c301-4c94-b708-7963ec7c4d39"
      },
      "outputs": [
        {
          "name": "stdout",
          "output_type": "stream",
          "text": [
            "0.42857142857142855\n"
          ]
        },
        {
          "data": {
            "text/plain": [
              "<AxesSubplot:>"
            ]
          },
          "execution_count": 136,
          "metadata": {},
          "output_type": "execute_result"
        },
        {
          "data": {
            "image/png": "[encoded data removed]",
            "text/plain": [
              "<Figure size 432x288 with 1 Axes>"
            ]
          },
          "metadata": {
            "needs_background": "light"
          },
          "output_type": "display_data"
        }
      ],
      "source": [
        "print(us_a.query('user_answer > 55')['cor_ratio'].median())\n",
        "us_a.query('user_answer > 55')['cor_ratio'].hist(bins = 50, color = 'blue')"
      ]
    },
    {
      "cell_type": "markdown",
      "metadata": {
        "id": "TfQIlVAhFY6_"
      },
      "source": [
        "Выводим распределение кол-ва ответов студентов, которое больше 75%"
      ]
    },
    {
      "cell_type": "code",
      "execution_count": null,
      "metadata": {
        "id": "G5vRDYqmFY7A",
        "outputId": "bea98a3b-55af-4aec-92b0-f115662a68ab"
      },
      "outputs": [
        {
          "name": "stdout",
          "output_type": "stream",
          "text": [
            "0.4507042253521127\n"
          ]
        },
        {
          "data": {
            "text/plain": [
              "<AxesSubplot:>"
            ]
          },
          "execution_count": 137,
          "metadata": {},
          "output_type": "execute_result"
        },
        {
          "data": {
            "image/png": "[encoded data removed]",
            "text/plain": [
              "<Figure size 432x288 with 1 Axes>"
            ]
          },
          "metadata": {
            "needs_background": "light"
          },
          "output_type": "display_data"
        }
      ],
      "source": [
        "print(us_a.query('user_answer > 151')['cor_ratio'].median())\n",
        "us_a.query('user_answer > 151')['cor_ratio'].hist(bins = 50, color = 'blue')"
      ]
    },
    {
      "cell_type": "markdown",
      "metadata": {
        "id": "hOTigCOJFY7A"
      },
      "source": [
        "Выводим распределение кол-ва ответов студентов, которое больше 500"
      ]
    },
    {
      "cell_type": "code",
      "execution_count": null,
      "metadata": {
        "id": "K26MoYSoFY7A",
        "outputId": "bb2a5dcb-3529-4960-fd2e-deb8458a1c21"
      },
      "outputs": [
        {
          "name": "stdout",
          "output_type": "stream",
          "text": [
            "0.4578313253012048\n"
          ]
        },
        {
          "data": {
            "text/plain": [
              "<AxesSubplot:>"
            ]
          },
          "execution_count": 138,
          "metadata": {},
          "output_type": "execute_result"
        },
        {
          "data": {
            "image/png": "[encoded data removed]",
            "text/plain": [
              "<Figure size 432x288 with 1 Axes>"
            ]
          },
          "metadata": {
            "needs_background": "light"
          },
          "output_type": "display_data"
        }
      ],
      "source": [
        "print(us_a.query('user_answer > 500')['cor_ratio'].median())\n",
        "us_a.query('user_answer > 500')['cor_ratio'].hist(bins = 50, color = 'blue')"
      ]
    },
    {
      "cell_type": "markdown",
      "metadata": {
        "id": "9DyT-49lFY7A"
      },
      "source": [
        "Выводим распределение кол-ва ответов студентов, которое меньше 50"
      ]
    },
    {
      "cell_type": "code",
      "execution_count": null,
      "metadata": {
        "id": "VfLE7QW0FY7A",
        "outputId": "af258374-2893-477b-bbec-b4874b568b81"
      },
      "outputs": [
        {
          "name": "stdout",
          "output_type": "stream",
          "text": [
            "0.3333333333333333\n"
          ]
        },
        {
          "data": {
            "text/plain": [
              "<AxesSubplot:>"
            ]
          },
          "execution_count": 139,
          "metadata": {},
          "output_type": "execute_result"
        },
        {
          "data": {
            "image/png": "[encoded data removed]",
            "text/plain": [
              "<Figure size 432x288 with 1 Axes>"
            ]
          },
          "metadata": {
            "needs_background": "light"
          },
          "output_type": "display_data"
        }
      ],
      "source": [
        "print(us_a.query('user_answer < 50')['cor_ratio'].median())\n",
        "us_a.query('user_answer < 50')['cor_ratio'].hist(bins = 50, color = 'blue')"
      ]
    },
    {
      "cell_type": "markdown",
      "metadata": {
        "id": "opPyK1M8FY7A"
      },
      "source": [
        "По представленным графикам видно, что студенты, ответившие на меньше медианного значения количества ответов, справлялись хуже тех, кто ответил больше медианного значения. При этом ответы в количестве гораздо большем медианного значения незначительно сказалось на увеличении числа правильных ответов."
      ]
    },
    {
      "cell_type": "markdown",
      "metadata": {
        "id": "q0KgBDl0FY7B"
      },
      "source": [
        "Поищем взаимосвязь времени между взаимодействием со студентом и завершением первого события от него, среднего времени ответа на каждый вопрос и количества правильных ответов с общим количеством ответов студентов"
      ]
    },
    {
      "cell_type": "code",
      "execution_count": null,
      "metadata": {
        "id": "TZ6b1g8uFY7B",
        "outputId": "4f7b4177-63ea-4642-e50f-a03e1fcb2a38"
      },
      "outputs": [
        {
          "data": {
            "text/html": [
              "<div>\n",
              "<style scoped>\n",
              "    .dataframe tbody tr th:only-of-type {\n",
              "        vertical-align: middle;\n",
              "    }\n",
              "\n",
              "    .dataframe tbody tr th {\n",
              "        vertical-align: top;\n",
              "    }\n",
              "\n",
              "    .dataframe thead th {\n",
              "        text-align: right;\n",
              "    }\n",
              "</style>\n",
              "<table border=\"1\" class=\"dataframe\">\n",
              "  <thead>\n",
              "    <tr style=\"text-align: right;\">\n",
              "      <th></th>\n",
              "      <th>user_answer</th>\n",
              "      <th>timestamp_ratio</th>\n",
              "      <th>elapsed_time_ratio</th>\n",
              "      <th>cor_ratio</th>\n",
              "    </tr>\n",
              "  </thead>\n",
              "  <tbody>\n",
              "    <tr>\n",
              "      <th>0</th>\n",
              "      <td>72</td>\n",
              "      <td>6.524638e+07</td>\n",
              "      <td>12458.319444</td>\n",
              "      <td>0.444444</td>\n",
              "    </tr>\n",
              "    <tr>\n",
              "      <th>1</th>\n",
              "      <td>49</td>\n",
              "      <td>2.252203e+05</td>\n",
              "      <td>11122.387755</td>\n",
              "      <td>0.142857</td>\n",
              "    </tr>\n",
              "    <tr>\n",
              "      <th>2</th>\n",
              "      <td>31</td>\n",
              "      <td>2.472123e+05</td>\n",
              "      <td>10483.870968</td>\n",
              "      <td>0.322581</td>\n",
              "    </tr>\n",
              "    <tr>\n",
              "      <th>3</th>\n",
              "      <td>169</td>\n",
              "      <td>2.879101e+08</td>\n",
              "      <td>26449.704142</td>\n",
              "      <td>0.479290</td>\n",
              "    </tr>\n",
              "    <tr>\n",
              "      <th>4</th>\n",
              "      <td>149</td>\n",
              "      <td>2.615750e+08</td>\n",
              "      <td>18923.489933</td>\n",
              "      <td>0.449664</td>\n",
              "    </tr>\n",
              "    <tr>\n",
              "      <th>...</th>\n",
              "      <td>...</td>\n",
              "      <td>...</td>\n",
              "      <td>...</td>\n",
              "      <td>...</td>\n",
              "    </tr>\n",
              "    <tr>\n",
              "      <th>3819</th>\n",
              "      <td>575</td>\n",
              "      <td>7.238333e+08</td>\n",
              "      <td>19102.003478</td>\n",
              "      <td>0.405217</td>\n",
              "    </tr>\n",
              "    <tr>\n",
              "      <th>3820</th>\n",
              "      <td>20</td>\n",
              "      <td>3.388405e+05</td>\n",
              "      <td>18200.000000</td>\n",
              "      <td>0.350000</td>\n",
              "    </tr>\n",
              "    <tr>\n",
              "      <th>3821</th>\n",
              "      <td>739</td>\n",
              "      <td>1.787103e+08</td>\n",
              "      <td>16015.966171</td>\n",
              "      <td>0.416779</td>\n",
              "    </tr>\n",
              "    <tr>\n",
              "      <th>3822</th>\n",
              "      <td>78</td>\n",
              "      <td>1.462367e+09</td>\n",
              "      <td>12730.769231</td>\n",
              "      <td>0.397436</td>\n",
              "    </tr>\n",
              "    <tr>\n",
              "      <th>3823</th>\n",
              "      <td>71</td>\n",
              "      <td>7.114120e+06</td>\n",
              "      <td>21684.225352</td>\n",
              "      <td>0.211268</td>\n",
              "    </tr>\n",
              "  </tbody>\n",
              "</table>\n",
              "<p>3585 rows × 4 columns</p>\n",
              "</div>"
            ],
            "text/plain": [
              "      user_answer  timestamp_ratio  elapsed_time_ratio  cor_ratio\n",
              "0              72     6.524638e+07        12458.319444   0.444444\n",
              "1              49     2.252203e+05        11122.387755   0.142857\n",
              "2              31     2.472123e+05        10483.870968   0.322581\n",
              "3             169     2.879101e+08        26449.704142   0.479290\n",
              "4             149     2.615750e+08        18923.489933   0.449664\n",
              "...           ...              ...                 ...        ...\n",
              "3819          575     7.238333e+08        19102.003478   0.405217\n",
              "3820           20     3.388405e+05        18200.000000   0.350000\n",
              "3821          739     1.787103e+08        16015.966171   0.416779\n",
              "3822           78     1.462367e+09        12730.769231   0.397436\n",
              "3823           71     7.114120e+06        21684.225352   0.211268\n",
              "\n",
              "[3585 rows x 4 columns]"
            ]
          },
          "execution_count": 140,
          "metadata": {},
          "output_type": "execute_result"
        }
      ],
      "source": [
        "# Группируем общее кол-во ответов, кол-во правильных ответов и время ответа \n",
        "# на каждый вопрос студентов по их идентификаторам в датафрейм corr_look\n",
        "corr_look = dft[['user_id', 'user_answer', 'answered_correctly', 'timestamp', \\\n",
        "    'prior_question_elapsed_time']].groupby(['user_id'], as_index = False).sum()\n",
        "# Добавляем столбец timestamp_ratio соотношения времени между взаимодействием со студентом \n",
        "# и завершением первого события от него к общему кол-ву ответов студентов\n",
        "corr_look['timestamp_ratio'] = corr_look['timestamp'] / corr_look['user_answer']\n",
        "# Добавляем столбец elapsed_time_ratio соотношения среднего времени ответа на каждый вопрос к общему кол-ву ответов студентов\n",
        "corr_look['elapsed_time_ratio'] = corr_look['prior_question_elapsed_time'] / corr_look['user_answer']\n",
        "# Добавляем столбец cor_ratio успеваемости (соотношения кол-ва правильных ответов к общему кол-ву ответов студентов)\n",
        "corr_look['cor_ratio'] = corr_look.answered_correctly / corr_look.user_answer\n",
        "# Удаляем ненужные столбцы\n",
        "corr_look.drop(corr_look.columns[[0, 2, 3, 4]], axis = 1, inplace = True)\n",
        "corr_look = rem_emission(corr_look, 'user_answer', 1) # вызываем функцию сокращения разброса ответов\n",
        "corr_look # выводим первые 5 и последние 5 строк полученного датафрейма corr_look"
      ]
    },
    {
      "cell_type": "markdown",
      "metadata": {
        "id": "LYi-H3EcFY7B"
      },
      "source": [
        "Ещё раз убеждаемся в отсутствии явной связи между успеваемостью и кол-вом ответов студентов"
      ]
    },
    {
      "cell_type": "markdown",
      "metadata": {
        "id": "QlrHRDTAFY7B"
      },
      "source": [
        "Выводим соотношение timestamp_ratio к кол-ву ответов студентов: явной связи не видно"
      ]
    },
    {
      "cell_type": "code",
      "execution_count": null,
      "metadata": {
        "id": "74I9s4xtFY7B",
        "outputId": "b1794cd7-1080-4153-bf30-1ba053fef526"
      },
      "outputs": [
        {
          "data": {
            "text/plain": [
              "<AxesSubplot:xlabel='user_answer', ylabel='timestamp_ratio'>"
            ]
          },
          "execution_count": 141,
          "metadata": {},
          "output_type": "execute_result"
        },
        {
          "data": {
            "image/png": "[encoded data removed]",
            "text/plain": [
              "<Figure size 432x288 with 1 Axes>"
            ]
          },
          "metadata": {
            "needs_background": "light"
          },
          "output_type": "display_data"
        }
      ],
      "source": [
        "sns.regplot(data = corr_look, x = 'user_answer', y = 'timestamp_ratio', color = 'red')"
      ]
    },
    {
      "cell_type": "markdown",
      "metadata": {
        "id": "u_27-EERFY7B"
      },
      "source": [
        "Выводим соотношение elapsed_time_ratio к кол-ву ответов студентов: явной связи не видно"
      ]
    },
    {
      "cell_type": "code",
      "execution_count": null,
      "metadata": {
        "id": "WPqe9-1QFY7B",
        "outputId": "cdf3c2fc-9bd7-4dfc-fbf0-dc986ac6f12e"
      },
      "outputs": [
        {
          "data": {
            "text/plain": [
              "<AxesSubplot:xlabel='user_answer', ylabel='elapsed_time_ratio'>"
            ]
          },
          "execution_count": 142,
          "metadata": {},
          "output_type": "execute_result"
        },
        {
          "data": {
            "image/png": "[encoded data removed]",
            "text/plain": [
              "<Figure size 432x288 with 1 Axes>"
            ]
          },
          "metadata": {
            "needs_background": "light"
          },
          "output_type": "display_data"
        }
      ],
      "source": [
        "sns.regplot(data = corr_look, x = 'user_answer', y = 'elapsed_time_ratio', color = 'blue')"
      ]
    },
    {
      "cell_type": "markdown",
      "metadata": {
        "id": "qJCfHtMuFY7B"
      },
      "source": [
        "Выводим соотношение timestamp_ratio к успеваемости: явной связи не видно"
      ]
    },
    {
      "cell_type": "code",
      "execution_count": null,
      "metadata": {
        "id": "7Ta3GZceFY7C",
        "outputId": "cad61b1e-d38e-4b42-a3a7-b8598b9ea824"
      },
      "outputs": [
        {
          "data": {
            "text/plain": [
              "<AxesSubplot:xlabel='timestamp_ratio', ylabel='cor_ratio'>"
            ]
          },
          "execution_count": 143,
          "metadata": {},
          "output_type": "execute_result"
        },
        {
          "data": {
            "image/png": "[encoded data removed]",
            "text/plain": [
              "<Figure size 432x288 with 1 Axes>"
            ]
          },
          "metadata": {
            "needs_background": "light"
          },
          "output_type": "display_data"
        }
      ],
      "source": [
        "sns.regplot(data = corr_look, x = 'timestamp_ratio', y = 'cor_ratio', color = 'green')"
      ]
    },
    {
      "cell_type": "markdown",
      "metadata": {
        "id": "gxX-EBiGFY7C"
      },
      "source": [
        "Есть небольшая связь между elapsed_time_ratio и успеваемостью"
      ]
    },
    {
      "cell_type": "code",
      "execution_count": null,
      "metadata": {
        "id": "-e9qF-2uFY7C",
        "outputId": "13cb04ce-7b21-4c8f-f32c-2f5ecee76cb1"
      },
      "outputs": [
        {
          "data": {
            "text/plain": [
              "<AxesSubplot:xlabel='elapsed_time_ratio', ylabel='cor_ratio'>"
            ]
          },
          "execution_count": 144,
          "metadata": {},
          "output_type": "execute_result"
        },
        {
          "data": {
            "image/png": "[encoded data removed]",
            "text/plain": [
              "<Figure size 432x288 with 1 Axes>"
            ]
          },
          "metadata": {
            "needs_background": "light"
          },
          "output_type": "display_data"
        }
      ],
      "source": [
        "sns.regplot(data = corr_look, x = 'elapsed_time_ratio', y = 'cor_ratio', color = 'blue')"
      ]
    },
    {
      "cell_type": "markdown",
      "metadata": {
        "id": "nW-WSLbKFY7C"
      },
      "source": [
        "# Вывод"
      ]
    },
    {
      "cell_type": "markdown",
      "metadata": {
        "id": "e6ZX0mNgFY7C"
      },
      "source": [
        "Итак, на успеваемость студентов влияют следующие характеристики:\n",
        "- количество ответов студентов, большее медианного значения количества ответов, равного 55\n",
        "- типа контента (вопрос или лекция) - очень слабо\n",
        "- соотношения количества правильных ответов и среднего времени ответа на каждый вопрос к общему количеству ответов студентов - слабо"
      ]
    }
  ],
  "metadata": {
    "kernelspec": {
      "display_name": "base",
      "language": "python",
      "name": "python3"
    },
    "language_info": {
      "codemirror_mode": {
        "name": "ipython",
        "version": 3
      },
      "file_extension": ".py",
      "mimetype": "text/x-python",
      "name": "python",
      "nbconvert_exporter": "python",
      "pygments_lexer": "ipython3",
      "version": "3.9.12"
    },
    "orig_nbformat": 4,
    "vscode": {
      "interpreter": {
        "hash": "207e46ecf1029bc4e1f938afe9b13d8e4c0410d1047565cadc9f8fcc17876d42"
      }
    },
    "colab": {
      "provenance": [],
      "include_colab_link": true
    }
  },
  "nbformat": 4,
  "nbformat_minor": 0
}